{
 "cells": [
  {
   "cell_type": "markdown",
   "metadata": {},
   "source": [
    "# 2019 Data Science Term Project"
   ]
  },
  {
   "cell_type": "markdown",
   "metadata": {},
   "source": [
    "## Project title: Explore and Analyze Black Friday Data & build a recommendation model"
   ]
  },
  {
   "cell_type": "markdown",
   "metadata": {},
   "source": [
    "###### Team members: \n",
    " * Hyesu Lim: Computer Science 2017320160 \n",
    " * Jiwon Lee: Compter Science 2017320214\n",
    " * Chaeryeong Kim: Computer Science 2017320233"
   ]
  },
  {
   "cell_type": "markdown",
   "metadata": {},
   "source": [
    "###### Role: \n",
    " * Hyesu Lim: modeling\n",
    " * Jiwon Lee: correlation analysis\n",
    " * Chaeryeong Kim: exploratory data analysis "
   ]
  },
  {
   "cell_type": "markdown",
   "metadata": {},
   "source": [
    "###### Data Science Pipeline:\n",
    " => following this piplelines, we aim to try as many trials as possible to get some knowledge of the data\n",
    "  1. Ask an interesting question\n",
    "  2. Get the data\n",
    "  3. Explore the data\n",
    "  4. Correlation analysis to data\n",
    "  5. Data Preprocessing & Model the data\n",
    "  6. Visualize the summary result and conclusion"
   ]
  },
  {
   "cell_type": "markdown",
   "metadata": {},
   "source": [
    "## 1. Ask an interesting question\n",
    "###### => Using the shopping history, can we recommend the items to specific users?\n",
    "* Motivation: \n",
    "Today, we are living in the world of the recommendation systems. Whenever we go shopping online, the recommendation system of the site automatically recommend us several items using out recorded preferences, history of items we bought, and our information. Even if when it is not shopping mall such as instagram or facebook, they bring us the advertisement of the item that we once have searched online. Based on this motivation, with the data set of shopping history of a shop we got an interesting question that can we build a recommendation system based on meomory we meant history? Also, what can we get from exploring and analyzing the data? Can we adapt the result of the analysis to build models? "
   ]
  },
  {
   "cell_type": "markdown",
   "metadata": {},
   "source": [
    "## 2. Get the data and define the problem\n",
    "###### - data: Black Friday Data "
   ]
  },
  {
   "cell_type": "markdown",
   "metadata": {},
   "source": [
    " * source: Kaggle \n",
    " * url: https://www.kaggle.com/mehdidag/black-friday\n",
    "##### - data description: \n",
    "The dataset here is a sample of the transactions made in a retail store on a black friday. With 550 000 observations, it contains different kinds of variables either numerical or categorical. It contains missing values. The data source is given in a csv format having 538K rows and 12 columns. The following describes each column with it’s name, containing information, and given data type.\n",
    "\n",
    "##### - data columns:\n",
    " * User_ID: User, numeric(6040 unique values) \n",
    " * Product_ID: Id Pruduct, numeric(3623 unique values) \n",
    " * Gender: gender of a customer, categorical(boolean) \n",
    " * Age: age of a customer, categorical(range) \n",
    " * Occupation: Id occupation of each customer, numeric \n",
    " * City_Category: current staying in city, categorical \n",
    " * Stay_In_Current_City_Years: years stayed in the city for each customer, categorical(range) \n",
    " * Marital_Status: marital status, categorical \n",
    " * Product_Category_1: product category 1, numeric \n",
    " * Product_Category_2: product category 2, numeric \n",
    " * Product_Category_3: product category 3, numeric \n",
    " * Purchase: purchase amount in dollars, numeric \n"
   ]
  },
  {
   "cell_type": "code",
   "execution_count": 99,
   "metadata": {},
   "outputs": [],
   "source": [
    "import pandas as pd\n",
    "import matplotlib.pyplot as plt\n",
    "import seaborn as sns"
   ]
  },
  {
   "cell_type": "markdown",
   "metadata": {},
   "source": [
    "##### - simple view of data"
   ]
  },
  {
   "cell_type": "code",
   "execution_count": 34,
   "metadata": {},
   "outputs": [],
   "source": [
    "#load the dataset\n",
    "data1 = pd.read_csv(\"BlackFriday.csv\")"
   ]
  },
  {
   "cell_type": "code",
   "execution_count": 35,
   "metadata": {},
   "outputs": [
    {
     "data": {
      "text/plain": [
       "(537577, 12)"
      ]
     },
     "execution_count": 35,
     "metadata": {},
     "output_type": "execute_result"
    }
   ],
   "source": [
    "data1.shape"
   ]
  },
  {
   "cell_type": "code",
   "execution_count": 36,
   "metadata": {},
   "outputs": [
    {
     "data": {
      "text/html": [
       "<div>\n",
       "<style scoped>\n",
       "    .dataframe tbody tr th:only-of-type {\n",
       "        vertical-align: middle;\n",
       "    }\n",
       "\n",
       "    .dataframe tbody tr th {\n",
       "        vertical-align: top;\n",
       "    }\n",
       "\n",
       "    .dataframe thead th {\n",
       "        text-align: right;\n",
       "    }\n",
       "</style>\n",
       "<table border=\"1\" class=\"dataframe\">\n",
       "  <thead>\n",
       "    <tr style=\"text-align: right;\">\n",
       "      <th></th>\n",
       "      <th>User_ID</th>\n",
       "      <th>Occupation</th>\n",
       "      <th>Marital_Status</th>\n",
       "      <th>Product_Category_1</th>\n",
       "      <th>Product_Category_2</th>\n",
       "      <th>Product_Category_3</th>\n",
       "      <th>Purchase</th>\n",
       "    </tr>\n",
       "  </thead>\n",
       "  <tbody>\n",
       "    <tr>\n",
       "      <th>count</th>\n",
       "      <td>5.375770e+05</td>\n",
       "      <td>537577.00000</td>\n",
       "      <td>537577.000000</td>\n",
       "      <td>537577.000000</td>\n",
       "      <td>370591.000000</td>\n",
       "      <td>164278.000000</td>\n",
       "      <td>537577.000000</td>\n",
       "    </tr>\n",
       "    <tr>\n",
       "      <th>mean</th>\n",
       "      <td>1.002992e+06</td>\n",
       "      <td>8.08271</td>\n",
       "      <td>0.408797</td>\n",
       "      <td>5.295546</td>\n",
       "      <td>9.842144</td>\n",
       "      <td>12.669840</td>\n",
       "      <td>9333.859853</td>\n",
       "    </tr>\n",
       "    <tr>\n",
       "      <th>std</th>\n",
       "      <td>1.714393e+03</td>\n",
       "      <td>6.52412</td>\n",
       "      <td>0.491612</td>\n",
       "      <td>3.750701</td>\n",
       "      <td>5.087259</td>\n",
       "      <td>4.124341</td>\n",
       "      <td>4981.022133</td>\n",
       "    </tr>\n",
       "    <tr>\n",
       "      <th>min</th>\n",
       "      <td>1.000001e+06</td>\n",
       "      <td>0.00000</td>\n",
       "      <td>0.000000</td>\n",
       "      <td>1.000000</td>\n",
       "      <td>2.000000</td>\n",
       "      <td>3.000000</td>\n",
       "      <td>185.000000</td>\n",
       "    </tr>\n",
       "    <tr>\n",
       "      <th>25%</th>\n",
       "      <td>1.001495e+06</td>\n",
       "      <td>2.00000</td>\n",
       "      <td>0.000000</td>\n",
       "      <td>1.000000</td>\n",
       "      <td>5.000000</td>\n",
       "      <td>9.000000</td>\n",
       "      <td>5866.000000</td>\n",
       "    </tr>\n",
       "    <tr>\n",
       "      <th>50%</th>\n",
       "      <td>1.003031e+06</td>\n",
       "      <td>7.00000</td>\n",
       "      <td>0.000000</td>\n",
       "      <td>5.000000</td>\n",
       "      <td>9.000000</td>\n",
       "      <td>14.000000</td>\n",
       "      <td>8062.000000</td>\n",
       "    </tr>\n",
       "    <tr>\n",
       "      <th>75%</th>\n",
       "      <td>1.004417e+06</td>\n",
       "      <td>14.00000</td>\n",
       "      <td>1.000000</td>\n",
       "      <td>8.000000</td>\n",
       "      <td>15.000000</td>\n",
       "      <td>16.000000</td>\n",
       "      <td>12073.000000</td>\n",
       "    </tr>\n",
       "    <tr>\n",
       "      <th>max</th>\n",
       "      <td>1.006040e+06</td>\n",
       "      <td>20.00000</td>\n",
       "      <td>1.000000</td>\n",
       "      <td>18.000000</td>\n",
       "      <td>18.000000</td>\n",
       "      <td>18.000000</td>\n",
       "      <td>23961.000000</td>\n",
       "    </tr>\n",
       "  </tbody>\n",
       "</table>\n",
       "</div>"
      ],
      "text/plain": [
       "            User_ID    Occupation  Marital_Status  Product_Category_1  \\\n",
       "count  5.375770e+05  537577.00000   537577.000000       537577.000000   \n",
       "mean   1.002992e+06       8.08271        0.408797            5.295546   \n",
       "std    1.714393e+03       6.52412        0.491612            3.750701   \n",
       "min    1.000001e+06       0.00000        0.000000            1.000000   \n",
       "25%    1.001495e+06       2.00000        0.000000            1.000000   \n",
       "50%    1.003031e+06       7.00000        0.000000            5.000000   \n",
       "75%    1.004417e+06      14.00000        1.000000            8.000000   \n",
       "max    1.006040e+06      20.00000        1.000000           18.000000   \n",
       "\n",
       "       Product_Category_2  Product_Category_3       Purchase  \n",
       "count       370591.000000       164278.000000  537577.000000  \n",
       "mean             9.842144           12.669840    9333.859853  \n",
       "std              5.087259            4.124341    4981.022133  \n",
       "min              2.000000            3.000000     185.000000  \n",
       "25%              5.000000            9.000000    5866.000000  \n",
       "50%              9.000000           14.000000    8062.000000  \n",
       "75%             15.000000           16.000000   12073.000000  \n",
       "max             18.000000           18.000000   23961.000000  "
      ]
     },
     "execution_count": 36,
     "metadata": {},
     "output_type": "execute_result"
    }
   ],
   "source": [
    "data1.describe()"
   ]
  },
  {
   "cell_type": "code",
   "execution_count": 37,
   "metadata": {},
   "outputs": [
    {
     "data": {
      "text/html": [
       "<div>\n",
       "<style scoped>\n",
       "    .dataframe tbody tr th:only-of-type {\n",
       "        vertical-align: middle;\n",
       "    }\n",
       "\n",
       "    .dataframe tbody tr th {\n",
       "        vertical-align: top;\n",
       "    }\n",
       "\n",
       "    .dataframe thead th {\n",
       "        text-align: right;\n",
       "    }\n",
       "</style>\n",
       "<table border=\"1\" class=\"dataframe\">\n",
       "  <thead>\n",
       "    <tr style=\"text-align: right;\">\n",
       "      <th></th>\n",
       "      <th>User_ID</th>\n",
       "      <th>Product_ID</th>\n",
       "      <th>Gender</th>\n",
       "      <th>Age</th>\n",
       "      <th>Occupation</th>\n",
       "      <th>City_Category</th>\n",
       "      <th>Stay_In_Current_City_Years</th>\n",
       "      <th>Marital_Status</th>\n",
       "      <th>Product_Category_1</th>\n",
       "      <th>Product_Category_2</th>\n",
       "      <th>Product_Category_3</th>\n",
       "      <th>Purchase</th>\n",
       "    </tr>\n",
       "  </thead>\n",
       "  <tbody>\n",
       "    <tr>\n",
       "      <th>0</th>\n",
       "      <td>1000001</td>\n",
       "      <td>P00069042</td>\n",
       "      <td>F</td>\n",
       "      <td>0-17</td>\n",
       "      <td>10</td>\n",
       "      <td>A</td>\n",
       "      <td>2</td>\n",
       "      <td>0</td>\n",
       "      <td>3</td>\n",
       "      <td>NaN</td>\n",
       "      <td>NaN</td>\n",
       "      <td>8370</td>\n",
       "    </tr>\n",
       "    <tr>\n",
       "      <th>1</th>\n",
       "      <td>1000001</td>\n",
       "      <td>P00248942</td>\n",
       "      <td>F</td>\n",
       "      <td>0-17</td>\n",
       "      <td>10</td>\n",
       "      <td>A</td>\n",
       "      <td>2</td>\n",
       "      <td>0</td>\n",
       "      <td>1</td>\n",
       "      <td>6.0</td>\n",
       "      <td>14.0</td>\n",
       "      <td>15200</td>\n",
       "    </tr>\n",
       "    <tr>\n",
       "      <th>2</th>\n",
       "      <td>1000001</td>\n",
       "      <td>P00087842</td>\n",
       "      <td>F</td>\n",
       "      <td>0-17</td>\n",
       "      <td>10</td>\n",
       "      <td>A</td>\n",
       "      <td>2</td>\n",
       "      <td>0</td>\n",
       "      <td>12</td>\n",
       "      <td>NaN</td>\n",
       "      <td>NaN</td>\n",
       "      <td>1422</td>\n",
       "    </tr>\n",
       "    <tr>\n",
       "      <th>3</th>\n",
       "      <td>1000001</td>\n",
       "      <td>P00085442</td>\n",
       "      <td>F</td>\n",
       "      <td>0-17</td>\n",
       "      <td>10</td>\n",
       "      <td>A</td>\n",
       "      <td>2</td>\n",
       "      <td>0</td>\n",
       "      <td>12</td>\n",
       "      <td>14.0</td>\n",
       "      <td>NaN</td>\n",
       "      <td>1057</td>\n",
       "    </tr>\n",
       "    <tr>\n",
       "      <th>4</th>\n",
       "      <td>1000002</td>\n",
       "      <td>P00285442</td>\n",
       "      <td>M</td>\n",
       "      <td>55+</td>\n",
       "      <td>16</td>\n",
       "      <td>C</td>\n",
       "      <td>4+</td>\n",
       "      <td>0</td>\n",
       "      <td>8</td>\n",
       "      <td>NaN</td>\n",
       "      <td>NaN</td>\n",
       "      <td>7969</td>\n",
       "    </tr>\n",
       "  </tbody>\n",
       "</table>\n",
       "</div>"
      ],
      "text/plain": [
       "   User_ID Product_ID Gender   Age  Occupation City_Category  \\\n",
       "0  1000001  P00069042      F  0-17          10             A   \n",
       "1  1000001  P00248942      F  0-17          10             A   \n",
       "2  1000001  P00087842      F  0-17          10             A   \n",
       "3  1000001  P00085442      F  0-17          10             A   \n",
       "4  1000002  P00285442      M   55+          16             C   \n",
       "\n",
       "  Stay_In_Current_City_Years  Marital_Status  Product_Category_1  \\\n",
       "0                          2               0                   3   \n",
       "1                          2               0                   1   \n",
       "2                          2               0                  12   \n",
       "3                          2               0                  12   \n",
       "4                         4+               0                   8   \n",
       "\n",
       "   Product_Category_2  Product_Category_3  Purchase  \n",
       "0                 NaN                 NaN      8370  \n",
       "1                 6.0                14.0     15200  \n",
       "2                 NaN                 NaN      1422  \n",
       "3                14.0                 NaN      1057  \n",
       "4                 NaN                 NaN      7969  "
      ]
     },
     "execution_count": 37,
     "metadata": {},
     "output_type": "execute_result"
    }
   ],
   "source": [
    "data1.head()"
   ]
  },
  {
   "cell_type": "code",
   "execution_count": 38,
   "metadata": {},
   "outputs": [
    {
     "name": "stdout",
     "output_type": "stream",
     "text": [
      "<class 'pandas.core.frame.DataFrame'>\n",
      "RangeIndex: 537577 entries, 0 to 537576\n",
      "Data columns (total 12 columns):\n",
      "User_ID                       537577 non-null int64\n",
      "Product_ID                    537577 non-null object\n",
      "Gender                        537577 non-null object\n",
      "Age                           537577 non-null object\n",
      "Occupation                    537577 non-null int64\n",
      "City_Category                 537577 non-null object\n",
      "Stay_In_Current_City_Years    537577 non-null object\n",
      "Marital_Status                537577 non-null int64\n",
      "Product_Category_1            537577 non-null int64\n",
      "Product_Category_2            370591 non-null float64\n",
      "Product_Category_3            164278 non-null float64\n",
      "Purchase                      537577 non-null int64\n",
      "dtypes: float64(2), int64(5), object(5)\n",
      "memory usage: 49.2+ MB\n"
     ]
    }
   ],
   "source": [
    "data1.info()"
   ]
  },
  {
   "cell_type": "markdown",
   "metadata": {},
   "source": [
    "##### - definition of the problem\n",
    "* Predict top 5 most likely to be purchased products for customers and expected sales amount. \n",
    "* Problem statement: \n",
    "using the Black Friday Dataset with 538K instances and 12 attributes, we’d like to expect top 5 products to a specific customer for the coming Black Friday. Here, “top 5 products” are the 5 products that are most likely to be purchased by the customer. We are planning to build collaborative filtering models for expecting product items. Furthermore, with the prediction result we aim to recommend users their top 5 items to place into their basket. \n",
    "* Expected Result : \n",
    "functions that searches for a expected list based on a specified user. \n",
    "    - input: user - customer ID \n",
    "    - output: ranked list of items (product IDs), that the user would be most likely to \n",
    "buy\n"
   ]
  },
  {
   "cell_type": "markdown",
   "metadata": {},
   "source": [
    "## 3. Explore the data"
   ]
  },
  {
   "cell_type": "markdown",
   "metadata": {},
   "source": [
    "In order to understand our data, we are going to explore & analyze data by visualizing. The goal of this step is like below.\n",
    "##### - goal of the step:\n",
    " * to figure out how data is distributed\n",
    " * understand the meaning of each attribute(column)\n",
    " * throwing & answering questions of the data\n",
    " * figuring out missing values\n",
    " * simple planning of imputing missing values\n",
    " * expect the exploration result to contribute to later steps\n"
   ]
  },
  {
   "cell_type": "markdown",
   "metadata": {},
   "source": [
    "To get some insights from the data using the plots, here's Exploratory Data Analysis we've done. \n",
    "Through this analysis, we will try to achieve some goals below.\n",
    "\n",
    "###1. Make decision about imputing NaN values. If needed, design an imputing plans.\n",
    "###2. Answering several questions we can think of intuitively from the data, \n",
    "        imagine how we can utilize metadata to our recommendation system & roughly guess the result of correlation analysis.\n",
    "        \n",
    "        These are the questions we are going to answer here, to achieve the second goal.\n",
    "    \n",
    "        1. What all are the products, that have been purchased the most?\n",
    "        2. Which product category has been sold the maximum?\n",
    "        3. Men or Women, who are likely to spend more in Black Friday Sales?\n",
    "        4. Married or Individuals, who spends more?\n",
    "        5. Which age group has more interest in these type of sales?\n",
    "        \n",
    "We start doing this data analysis by loading the data and import a few packages we need. Then, by exploring the data focusing on the two goals we set, we'll try to achieve the goals and draw out some conclusions to connect this results to the coming steps."
   ]
  },
  {
   "cell_type": "markdown",
   "metadata": {},
   "source": [
    "### 3.1 Data analysis"
   ]
  },
  {
   "cell_type": "code",
   "execution_count": 39,
   "metadata": {},
   "outputs": [],
   "source": [
    "#import packages\n",
    "import pandas as pd\n",
    "import numpy as np\n",
    "import matplotlib.pyplot as plt\n",
    "from matplotlib.legend_handler import HandlerBase\n",
    "from matplotlib.text import Text\n",
    "import seaborn as sns\n",
    "%matplotlib inline"
   ]
  },
  {
   "cell_type": "code",
   "execution_count": 40,
   "metadata": {},
   "outputs": [],
   "source": [
    "#load the dataset\n",
    "data = pd.read_csv(\"BlackFriday.csv\")"
   ]
  },
  {
   "cell_type": "code",
   "execution_count": 41,
   "metadata": {},
   "outputs": [
    {
     "data": {
      "text/plain": [
       "(537577, 12)"
      ]
     },
     "execution_count": 41,
     "metadata": {},
     "output_type": "execute_result"
    }
   ],
   "source": [
    "data.shape"
   ]
  },
  {
   "cell_type": "markdown",
   "metadata": {},
   "source": [
    "BlackFriday data set consists of 537577 rows(observations) with 12 columns(features)"
   ]
  },
  {
   "cell_type": "code",
   "execution_count": 42,
   "metadata": {},
   "outputs": [
    {
     "data": {
      "text/html": [
       "<div>\n",
       "<style scoped>\n",
       "    .dataframe tbody tr th:only-of-type {\n",
       "        vertical-align: middle;\n",
       "    }\n",
       "\n",
       "    .dataframe tbody tr th {\n",
       "        vertical-align: top;\n",
       "    }\n",
       "\n",
       "    .dataframe thead th {\n",
       "        text-align: right;\n",
       "    }\n",
       "</style>\n",
       "<table border=\"1\" class=\"dataframe\">\n",
       "  <thead>\n",
       "    <tr style=\"text-align: right;\">\n",
       "      <th></th>\n",
       "      <th>User_ID</th>\n",
       "      <th>Occupation</th>\n",
       "      <th>Marital_Status</th>\n",
       "      <th>Product_Category_1</th>\n",
       "      <th>Product_Category_2</th>\n",
       "      <th>Product_Category_3</th>\n",
       "      <th>Purchase</th>\n",
       "    </tr>\n",
       "  </thead>\n",
       "  <tbody>\n",
       "    <tr>\n",
       "      <th>count</th>\n",
       "      <td>5.375770e+05</td>\n",
       "      <td>537577.00000</td>\n",
       "      <td>537577.000000</td>\n",
       "      <td>537577.000000</td>\n",
       "      <td>370591.000000</td>\n",
       "      <td>164278.000000</td>\n",
       "      <td>537577.000000</td>\n",
       "    </tr>\n",
       "    <tr>\n",
       "      <th>mean</th>\n",
       "      <td>1.002992e+06</td>\n",
       "      <td>8.08271</td>\n",
       "      <td>0.408797</td>\n",
       "      <td>5.295546</td>\n",
       "      <td>9.842144</td>\n",
       "      <td>12.669840</td>\n",
       "      <td>9333.859853</td>\n",
       "    </tr>\n",
       "    <tr>\n",
       "      <th>std</th>\n",
       "      <td>1.714393e+03</td>\n",
       "      <td>6.52412</td>\n",
       "      <td>0.491612</td>\n",
       "      <td>3.750701</td>\n",
       "      <td>5.087259</td>\n",
       "      <td>4.124341</td>\n",
       "      <td>4981.022133</td>\n",
       "    </tr>\n",
       "    <tr>\n",
       "      <th>min</th>\n",
       "      <td>1.000001e+06</td>\n",
       "      <td>0.00000</td>\n",
       "      <td>0.000000</td>\n",
       "      <td>1.000000</td>\n",
       "      <td>2.000000</td>\n",
       "      <td>3.000000</td>\n",
       "      <td>185.000000</td>\n",
       "    </tr>\n",
       "    <tr>\n",
       "      <th>25%</th>\n",
       "      <td>1.001495e+06</td>\n",
       "      <td>2.00000</td>\n",
       "      <td>0.000000</td>\n",
       "      <td>1.000000</td>\n",
       "      <td>5.000000</td>\n",
       "      <td>9.000000</td>\n",
       "      <td>5866.000000</td>\n",
       "    </tr>\n",
       "    <tr>\n",
       "      <th>50%</th>\n",
       "      <td>1.003031e+06</td>\n",
       "      <td>7.00000</td>\n",
       "      <td>0.000000</td>\n",
       "      <td>5.000000</td>\n",
       "      <td>9.000000</td>\n",
       "      <td>14.000000</td>\n",
       "      <td>8062.000000</td>\n",
       "    </tr>\n",
       "    <tr>\n",
       "      <th>75%</th>\n",
       "      <td>1.004417e+06</td>\n",
       "      <td>14.00000</td>\n",
       "      <td>1.000000</td>\n",
       "      <td>8.000000</td>\n",
       "      <td>15.000000</td>\n",
       "      <td>16.000000</td>\n",
       "      <td>12073.000000</td>\n",
       "    </tr>\n",
       "    <tr>\n",
       "      <th>max</th>\n",
       "      <td>1.006040e+06</td>\n",
       "      <td>20.00000</td>\n",
       "      <td>1.000000</td>\n",
       "      <td>18.000000</td>\n",
       "      <td>18.000000</td>\n",
       "      <td>18.000000</td>\n",
       "      <td>23961.000000</td>\n",
       "    </tr>\n",
       "  </tbody>\n",
       "</table>\n",
       "</div>"
      ],
      "text/plain": [
       "            User_ID    Occupation  Marital_Status  Product_Category_1  \\\n",
       "count  5.375770e+05  537577.00000   537577.000000       537577.000000   \n",
       "mean   1.002992e+06       8.08271        0.408797            5.295546   \n",
       "std    1.714393e+03       6.52412        0.491612            3.750701   \n",
       "min    1.000001e+06       0.00000        0.000000            1.000000   \n",
       "25%    1.001495e+06       2.00000        0.000000            1.000000   \n",
       "50%    1.003031e+06       7.00000        0.000000            5.000000   \n",
       "75%    1.004417e+06      14.00000        1.000000            8.000000   \n",
       "max    1.006040e+06      20.00000        1.000000           18.000000   \n",
       "\n",
       "       Product_Category_2  Product_Category_3       Purchase  \n",
       "count       370591.000000       164278.000000  537577.000000  \n",
       "mean             9.842144           12.669840    9333.859853  \n",
       "std              5.087259            4.124341    4981.022133  \n",
       "min              2.000000            3.000000     185.000000  \n",
       "25%              5.000000            9.000000    5866.000000  \n",
       "50%              9.000000           14.000000    8062.000000  \n",
       "75%             15.000000           16.000000   12073.000000  \n",
       "max             18.000000           18.000000   23961.000000  "
      ]
     },
     "execution_count": 42,
     "metadata": {},
     "output_type": "execute_result"
    }
   ],
   "source": [
    "#description of data set\n",
    "data.describe()"
   ]
  },
  {
   "cell_type": "code",
   "execution_count": 43,
   "metadata": {},
   "outputs": [
    {
     "data": {
      "text/html": [
       "<div>\n",
       "<style scoped>\n",
       "    .dataframe tbody tr th:only-of-type {\n",
       "        vertical-align: middle;\n",
       "    }\n",
       "\n",
       "    .dataframe tbody tr th {\n",
       "        vertical-align: top;\n",
       "    }\n",
       "\n",
       "    .dataframe thead th {\n",
       "        text-align: right;\n",
       "    }\n",
       "</style>\n",
       "<table border=\"1\" class=\"dataframe\">\n",
       "  <thead>\n",
       "    <tr style=\"text-align: right;\">\n",
       "      <th></th>\n",
       "      <th>User_ID</th>\n",
       "      <th>Product_ID</th>\n",
       "      <th>Gender</th>\n",
       "      <th>Age</th>\n",
       "      <th>Occupation</th>\n",
       "      <th>City_Category</th>\n",
       "      <th>Stay_In_Current_City_Years</th>\n",
       "      <th>Marital_Status</th>\n",
       "      <th>Product_Category_1</th>\n",
       "      <th>Product_Category_2</th>\n",
       "      <th>Product_Category_3</th>\n",
       "      <th>Purchase</th>\n",
       "    </tr>\n",
       "  </thead>\n",
       "  <tbody>\n",
       "    <tr>\n",
       "      <th>0</th>\n",
       "      <td>1000001</td>\n",
       "      <td>P00069042</td>\n",
       "      <td>F</td>\n",
       "      <td>0-17</td>\n",
       "      <td>10</td>\n",
       "      <td>A</td>\n",
       "      <td>2</td>\n",
       "      <td>0</td>\n",
       "      <td>3</td>\n",
       "      <td>NaN</td>\n",
       "      <td>NaN</td>\n",
       "      <td>8370</td>\n",
       "    </tr>\n",
       "    <tr>\n",
       "      <th>1</th>\n",
       "      <td>1000001</td>\n",
       "      <td>P00248942</td>\n",
       "      <td>F</td>\n",
       "      <td>0-17</td>\n",
       "      <td>10</td>\n",
       "      <td>A</td>\n",
       "      <td>2</td>\n",
       "      <td>0</td>\n",
       "      <td>1</td>\n",
       "      <td>6.0</td>\n",
       "      <td>14.0</td>\n",
       "      <td>15200</td>\n",
       "    </tr>\n",
       "    <tr>\n",
       "      <th>2</th>\n",
       "      <td>1000001</td>\n",
       "      <td>P00087842</td>\n",
       "      <td>F</td>\n",
       "      <td>0-17</td>\n",
       "      <td>10</td>\n",
       "      <td>A</td>\n",
       "      <td>2</td>\n",
       "      <td>0</td>\n",
       "      <td>12</td>\n",
       "      <td>NaN</td>\n",
       "      <td>NaN</td>\n",
       "      <td>1422</td>\n",
       "    </tr>\n",
       "    <tr>\n",
       "      <th>3</th>\n",
       "      <td>1000001</td>\n",
       "      <td>P00085442</td>\n",
       "      <td>F</td>\n",
       "      <td>0-17</td>\n",
       "      <td>10</td>\n",
       "      <td>A</td>\n",
       "      <td>2</td>\n",
       "      <td>0</td>\n",
       "      <td>12</td>\n",
       "      <td>14.0</td>\n",
       "      <td>NaN</td>\n",
       "      <td>1057</td>\n",
       "    </tr>\n",
       "    <tr>\n",
       "      <th>4</th>\n",
       "      <td>1000002</td>\n",
       "      <td>P00285442</td>\n",
       "      <td>M</td>\n",
       "      <td>55+</td>\n",
       "      <td>16</td>\n",
       "      <td>C</td>\n",
       "      <td>4+</td>\n",
       "      <td>0</td>\n",
       "      <td>8</td>\n",
       "      <td>NaN</td>\n",
       "      <td>NaN</td>\n",
       "      <td>7969</td>\n",
       "    </tr>\n",
       "  </tbody>\n",
       "</table>\n",
       "</div>"
      ],
      "text/plain": [
       "   User_ID Product_ID Gender   Age  Occupation City_Category  \\\n",
       "0  1000001  P00069042      F  0-17          10             A   \n",
       "1  1000001  P00248942      F  0-17          10             A   \n",
       "2  1000001  P00087842      F  0-17          10             A   \n",
       "3  1000001  P00085442      F  0-17          10             A   \n",
       "4  1000002  P00285442      M   55+          16             C   \n",
       "\n",
       "  Stay_In_Current_City_Years  Marital_Status  Product_Category_1  \\\n",
       "0                          2               0                   3   \n",
       "1                          2               0                   1   \n",
       "2                          2               0                  12   \n",
       "3                          2               0                  12   \n",
       "4                         4+               0                   8   \n",
       "\n",
       "   Product_Category_2  Product_Category_3  Purchase  \n",
       "0                 NaN                 NaN      8370  \n",
       "1                 6.0                14.0     15200  \n",
       "2                 NaN                 NaN      1422  \n",
       "3                14.0                 NaN      1057  \n",
       "4                 NaN                 NaN      7969  "
      ]
     },
     "execution_count": 43,
     "metadata": {},
     "output_type": "execute_result"
    }
   ],
   "source": [
    "#view first few records\n",
    "data.head()"
   ]
  },
  {
   "cell_type": "code",
   "execution_count": 44,
   "metadata": {},
   "outputs": [
    {
     "data": {
      "text/html": [
       "<div>\n",
       "<style scoped>\n",
       "    .dataframe tbody tr th:only-of-type {\n",
       "        vertical-align: middle;\n",
       "    }\n",
       "\n",
       "    .dataframe tbody tr th {\n",
       "        vertical-align: top;\n",
       "    }\n",
       "\n",
       "    .dataframe thead th {\n",
       "        text-align: right;\n",
       "    }\n",
       "</style>\n",
       "<table border=\"1\" class=\"dataframe\">\n",
       "  <thead>\n",
       "    <tr style=\"text-align: right;\">\n",
       "      <th></th>\n",
       "      <th>User_ID</th>\n",
       "      <th>Product_ID</th>\n",
       "      <th>Gender</th>\n",
       "      <th>Age</th>\n",
       "      <th>Occupation</th>\n",
       "      <th>City_Category</th>\n",
       "      <th>Stay_In_Current_City_Years</th>\n",
       "      <th>Marital_Status</th>\n",
       "      <th>Product_Category_1</th>\n",
       "      <th>Product_Category_2</th>\n",
       "      <th>Product_Category_3</th>\n",
       "      <th>Purchase</th>\n",
       "    </tr>\n",
       "  </thead>\n",
       "  <tbody>\n",
       "    <tr>\n",
       "      <th>537572</th>\n",
       "      <td>1004737</td>\n",
       "      <td>P00193542</td>\n",
       "      <td>M</td>\n",
       "      <td>36-45</td>\n",
       "      <td>16</td>\n",
       "      <td>C</td>\n",
       "      <td>1</td>\n",
       "      <td>0</td>\n",
       "      <td>1</td>\n",
       "      <td>2.0</td>\n",
       "      <td>NaN</td>\n",
       "      <td>11664</td>\n",
       "    </tr>\n",
       "    <tr>\n",
       "      <th>537573</th>\n",
       "      <td>1004737</td>\n",
       "      <td>P00111142</td>\n",
       "      <td>M</td>\n",
       "      <td>36-45</td>\n",
       "      <td>16</td>\n",
       "      <td>C</td>\n",
       "      <td>1</td>\n",
       "      <td>0</td>\n",
       "      <td>1</td>\n",
       "      <td>15.0</td>\n",
       "      <td>16.0</td>\n",
       "      <td>19196</td>\n",
       "    </tr>\n",
       "    <tr>\n",
       "      <th>537574</th>\n",
       "      <td>1004737</td>\n",
       "      <td>P00345942</td>\n",
       "      <td>M</td>\n",
       "      <td>36-45</td>\n",
       "      <td>16</td>\n",
       "      <td>C</td>\n",
       "      <td>1</td>\n",
       "      <td>0</td>\n",
       "      <td>8</td>\n",
       "      <td>15.0</td>\n",
       "      <td>NaN</td>\n",
       "      <td>8043</td>\n",
       "    </tr>\n",
       "    <tr>\n",
       "      <th>537575</th>\n",
       "      <td>1004737</td>\n",
       "      <td>P00285842</td>\n",
       "      <td>M</td>\n",
       "      <td>36-45</td>\n",
       "      <td>16</td>\n",
       "      <td>C</td>\n",
       "      <td>1</td>\n",
       "      <td>0</td>\n",
       "      <td>5</td>\n",
       "      <td>NaN</td>\n",
       "      <td>NaN</td>\n",
       "      <td>7172</td>\n",
       "    </tr>\n",
       "    <tr>\n",
       "      <th>537576</th>\n",
       "      <td>1004737</td>\n",
       "      <td>P00118242</td>\n",
       "      <td>M</td>\n",
       "      <td>36-45</td>\n",
       "      <td>16</td>\n",
       "      <td>C</td>\n",
       "      <td>1</td>\n",
       "      <td>0</td>\n",
       "      <td>5</td>\n",
       "      <td>8.0</td>\n",
       "      <td>NaN</td>\n",
       "      <td>6875</td>\n",
       "    </tr>\n",
       "  </tbody>\n",
       "</table>\n",
       "</div>"
      ],
      "text/plain": [
       "        User_ID Product_ID Gender    Age  Occupation City_Category  \\\n",
       "537572  1004737  P00193542      M  36-45          16             C   \n",
       "537573  1004737  P00111142      M  36-45          16             C   \n",
       "537574  1004737  P00345942      M  36-45          16             C   \n",
       "537575  1004737  P00285842      M  36-45          16             C   \n",
       "537576  1004737  P00118242      M  36-45          16             C   \n",
       "\n",
       "       Stay_In_Current_City_Years  Marital_Status  Product_Category_1  \\\n",
       "537572                          1               0                   1   \n",
       "537573                          1               0                   1   \n",
       "537574                          1               0                   8   \n",
       "537575                          1               0                   5   \n",
       "537576                          1               0                   5   \n",
       "\n",
       "        Product_Category_2  Product_Category_3  Purchase  \n",
       "537572                 2.0                 NaN     11664  \n",
       "537573                15.0                16.0     19196  \n",
       "537574                15.0                 NaN      8043  \n",
       "537575                 NaN                 NaN      7172  \n",
       "537576                 8.0                 NaN      6875  "
      ]
     },
     "execution_count": 44,
     "metadata": {},
     "output_type": "execute_result"
    }
   ],
   "source": [
    "#view last few records\n",
    "data.tail()"
   ]
  },
  {
   "cell_type": "markdown",
   "metadata": {},
   "source": [
    "We can see that our data contains information about users' shopping history. One row contains who bought which kind of a product with several features related with user and product and amount of dollars."
   ]
  },
  {
   "cell_type": "code",
   "execution_count": 45,
   "metadata": {
    "scrolled": true
   },
   "outputs": [
    {
     "name": "stdout",
     "output_type": "stream",
     "text": [
      "<class 'pandas.core.frame.DataFrame'>\n",
      "RangeIndex: 537577 entries, 0 to 537576\n",
      "Data columns (total 12 columns):\n",
      "User_ID                       537577 non-null int64\n",
      "Product_ID                    537577 non-null object\n",
      "Gender                        537577 non-null object\n",
      "Age                           537577 non-null object\n",
      "Occupation                    537577 non-null int64\n",
      "City_Category                 537577 non-null object\n",
      "Stay_In_Current_City_Years    537577 non-null object\n",
      "Marital_Status                537577 non-null int64\n",
      "Product_Category_1            537577 non-null int64\n",
      "Product_Category_2            370591 non-null float64\n",
      "Product_Category_3            164278 non-null float64\n",
      "Purchase                      537577 non-null int64\n",
      "dtypes: float64(2), int64(5), object(5)\n",
      "memory usage: 49.2+ MB\n"
     ]
    }
   ],
   "source": [
    "#data types\n",
    "data.info()"
   ]
  },
  {
   "cell_type": "markdown",
   "metadata": {},
   "source": [
    "Among total 12 columns, \n",
    "    \n",
    "    - int64: User_ID, Occupation, Marital_Status, Product_Category_1, Purchase\n",
    "    - float64: Product_Category2, Product_Category_3\n",
    "    - object: Product_ID, Gender, Age, City_Category, Stay_In_Current_City_Years\n",
    "        \n",
    "  =>Here, we got some categorical(Nominal) columns that need encoding process later if we have to use those columns for modeling."
   ]
  },
  {
   "cell_type": "code",
   "execution_count": 46,
   "metadata": {},
   "outputs": [
    {
     "data": {
      "text/plain": [
       "User_ID                            0\n",
       "Product_ID                         0\n",
       "Gender                             0\n",
       "Age                                0\n",
       "Occupation                         0\n",
       "City_Category                      0\n",
       "Stay_In_Current_City_Years         0\n",
       "Marital_Status                     0\n",
       "Product_Category_1                 0\n",
       "Product_Category_2            166986\n",
       "Product_Category_3            373299\n",
       "Purchase                           0\n",
       "dtype: int64"
      ]
     },
     "execution_count": 46,
     "metadata": {},
     "output_type": "execute_result"
    }
   ],
   "source": [
    "#insights on NaN values\n",
    "data.isnull().sum()"
   ]
  },
  {
   "cell_type": "markdown",
   "metadata": {},
   "source": [
    "We know that there're missing values in Product_Category_2 and Product_Category_3.\n",
    "So, we're going to investigate the proportion of missing values in the data set."
   ]
  },
  {
   "cell_type": "markdown",
   "metadata": {},
   "source": [
    "We can see that there are null values in Product_Category_2 and Product_Category_3."
   ]
  },
  {
   "cell_type": "markdown",
   "metadata": {},
   "source": [
    "- Distribution of purchase count of each user"
   ]
  },
  {
   "cell_type": "code",
   "execution_count": 95,
   "metadata": {},
   "outputs": [
    {
     "data": {
      "text/html": [
       "<div>\n",
       "<style scoped>\n",
       "    .dataframe tbody tr th:only-of-type {\n",
       "        vertical-align: middle;\n",
       "    }\n",
       "\n",
       "    .dataframe tbody tr th {\n",
       "        vertical-align: top;\n",
       "    }\n",
       "\n",
       "    .dataframe thead th {\n",
       "        text-align: right;\n",
       "    }\n",
       "</style>\n",
       "<table border=\"1\" class=\"dataframe\">\n",
       "  <thead>\n",
       "    <tr style=\"text-align: right;\">\n",
       "      <th></th>\n",
       "      <th></th>\n",
       "      <th>Product_Category_1</th>\n",
       "      <th>Product_Category_2</th>\n",
       "      <th>Product_Category_3</th>\n",
       "    </tr>\n",
       "    <tr>\n",
       "      <th>User_ID</th>\n",
       "      <th>Product_ID</th>\n",
       "      <th></th>\n",
       "      <th></th>\n",
       "      <th></th>\n",
       "    </tr>\n",
       "  </thead>\n",
       "  <tbody>\n",
       "    <tr>\n",
       "      <th rowspan=\"5\" valign=\"top\">1000001</th>\n",
       "      <th>P00000142</th>\n",
       "      <td>3</td>\n",
       "      <td>4.0</td>\n",
       "      <td>5.0</td>\n",
       "    </tr>\n",
       "    <tr>\n",
       "      <th>P00004842</th>\n",
       "      <td>3</td>\n",
       "      <td>4.0</td>\n",
       "      <td>12.0</td>\n",
       "    </tr>\n",
       "    <tr>\n",
       "      <th>P00025442</th>\n",
       "      <td>1</td>\n",
       "      <td>2.0</td>\n",
       "      <td>9.0</td>\n",
       "    </tr>\n",
       "    <tr>\n",
       "      <th>P00051442</th>\n",
       "      <td>8</td>\n",
       "      <td>17.0</td>\n",
       "      <td>NaN</td>\n",
       "    </tr>\n",
       "    <tr>\n",
       "      <th>P00051842</th>\n",
       "      <td>4</td>\n",
       "      <td>8.0</td>\n",
       "      <td>NaN</td>\n",
       "    </tr>\n",
       "  </tbody>\n",
       "</table>\n",
       "</div>"
      ],
      "text/plain": [
       "                    Product_Category_1  Product_Category_2  Product_Category_3\n",
       "User_ID Product_ID                                                            \n",
       "1000001 P00000142                    3                 4.0                 5.0\n",
       "        P00004842                    3                 4.0                12.0\n",
       "        P00025442                    1                 2.0                 9.0\n",
       "        P00051442                    8                17.0                 NaN\n",
       "        P00051842                    4                 8.0                 NaN"
      ]
     },
     "execution_count": 95,
     "metadata": {},
     "output_type": "execute_result"
    }
   ],
   "source": [
    "#in ascending order of user id, how many time user shopped\n",
    "a = np.array(data[\"User_ID\"])\n",
    "unique_elements, counts_elements = np.unique(a, return_counts=True)\n",
    "pd.pivot_table(data, index=[\"User_ID\", \"Product_ID\"], values=[\"Product_Category_1\", \"Product_Category_2\", \"Product_Category_3\"]).head()"
   ]
  },
  {
   "cell_type": "markdown",
   "metadata": {},
   "source": [
    "The table above shows the Product_Category_1,2,3 according to the user and product_id. Through this, we noticed that even if the all 3 product categories matched, it doesn't mean the two products have same product_id, which indicates that they are different items. Also, we noticed that users bought no same items twice or more, which says users bought an unique item only once since original data information shows that it has 537577 rows and as we can see above, if we organized the data in the point of user_id and product_id, we got same number of rows."
   ]
  },
  {
   "cell_type": "code",
   "execution_count": 96,
   "metadata": {},
   "outputs": [],
   "source": [
    "data2 = data.drop(['Gender', 'Age', 'Occupation', 'City_Category',\n",
    "                  'Stay_In_Current_City_Years', 'Marital_Status',\n",
    "                  'Product_Category_1', 'Product_Category_2',\n",
    "                  'Product_Category_3', 'Purchase'], axis=1)\n",
    "data2 = data2.groupby(['User_ID']).count()\n",
    "user_cnt_info = pd.DataFrame({'User_ID':data2['Product_ID'].index, 'countProduct':data2['Product_ID'].values})"
   ]
  },
  {
   "cell_type": "code",
   "execution_count": 97,
   "metadata": {},
   "outputs": [
    {
     "data": {
      "text/html": [
       "<div>\n",
       "<style scoped>\n",
       "    .dataframe tbody tr th:only-of-type {\n",
       "        vertical-align: middle;\n",
       "    }\n",
       "\n",
       "    .dataframe tbody tr th {\n",
       "        vertical-align: top;\n",
       "    }\n",
       "\n",
       "    .dataframe thead th {\n",
       "        text-align: right;\n",
       "    }\n",
       "</style>\n",
       "<table border=\"1\" class=\"dataframe\">\n",
       "  <thead>\n",
       "    <tr style=\"text-align: right;\">\n",
       "      <th></th>\n",
       "      <th>User_ID</th>\n",
       "      <th>countProduct</th>\n",
       "    </tr>\n",
       "  </thead>\n",
       "  <tbody>\n",
       "    <tr>\n",
       "      <th>0</th>\n",
       "      <td>1000001</td>\n",
       "      <td>34</td>\n",
       "    </tr>\n",
       "    <tr>\n",
       "      <th>1</th>\n",
       "      <td>1000002</td>\n",
       "      <td>76</td>\n",
       "    </tr>\n",
       "    <tr>\n",
       "      <th>2</th>\n",
       "      <td>1000003</td>\n",
       "      <td>29</td>\n",
       "    </tr>\n",
       "    <tr>\n",
       "      <th>3</th>\n",
       "      <td>1000004</td>\n",
       "      <td>13</td>\n",
       "    </tr>\n",
       "    <tr>\n",
       "      <th>4</th>\n",
       "      <td>1000005</td>\n",
       "      <td>106</td>\n",
       "    </tr>\n",
       "  </tbody>\n",
       "</table>\n",
       "</div>"
      ],
      "text/plain": [
       "   User_ID  countProduct\n",
       "0  1000001            34\n",
       "1  1000002            76\n",
       "2  1000003            29\n",
       "3  1000004            13\n",
       "4  1000005           106"
      ]
     },
     "execution_count": 97,
     "metadata": {},
     "output_type": "execute_result"
    }
   ],
   "source": [
    "user_cnt_info.head()"
   ]
  },
  {
   "cell_type": "markdown",
   "metadata": {},
   "source": [
    "Here, we found that statistically, each user shopped about 91 items on average. This is very important since later when we build our models, we are going to split out data according to user_id and we'll delete the users who bought less than predefined frequency."
   ]
  },
  {
   "cell_type": "code",
   "execution_count": 98,
   "metadata": {},
   "outputs": [
    {
     "data": {
      "text/plain": [
       "count    5891.000000\n",
       "mean       91.253947\n",
       "std       105.929800\n",
       "min         5.000000\n",
       "25%        25.000000\n",
       "50%        53.000000\n",
       "75%       114.000000\n",
       "max      1025.000000\n",
       "dtype: float64"
      ]
     },
     "execution_count": 98,
     "metadata": {},
     "output_type": "execute_result"
    }
   ],
   "source": [
    "user_cnt_info_array = np.array(user_cnt_info['countProduct'])\n",
    "\n",
    "stat = pd.Series(user_cnt_info_array)\n",
    "stat.describe()"
   ]
  },
  {
   "cell_type": "code",
   "execution_count": 93,
   "metadata": {},
   "outputs": [
    {
     "data": {
      "image/png": "[encoded data removed]",
      "text/plain": [
       "<Figure size 432x288 with 1 Axes>"
      ]
     },
     "metadata": {
      "needs_background": "light"
     },
     "output_type": "display_data"
    }
   ],
   "source": [
    "n, bins, patches = plt.hist(user_cnt_info_array, bins=20)\n",
    "plt.show()"
   ]
  },
  {
   "cell_type": "markdown",
   "metadata": {},
   "source": [
    "This shows the distiribution of purcahse count of each users. Since we are planning to use memory-based CF, we need enough data for each user. We visualized this to check whether this data is appropriate for memory-based CF. According to the result, we noticed that 25% of total users which are 1472 has bought more than 114 products and concluded that this data is usable for memory-based CF."
   ]
  },
  {
   "cell_type": "markdown",
   "metadata": {},
   "source": [
    "### Goal 1: Investigating missing values in the data and planning imputing method\n"
   ]
  },
  {
   "cell_type": "code",
   "execution_count": 100,
   "metadata": {},
   "outputs": [
    {
     "name": "stdout",
     "output_type": "stream",
     "text": [
      "Shape of Original data:(537577, 12)\n",
      "Shape of Copy data_copy:(537577, 12)\n"
     ]
    }
   ],
   "source": [
    "#copy the original data frame so that changes made in copy will not modify the original version\n",
    "data_copy = data.copy()\n",
    "print (\"Shape of Original data:{}\".format(data.shape))\n",
    "print (\"Shape of Copy data_copy:{}\".format(data_copy.shape))"
   ]
  },
  {
   "cell_type": "markdown",
   "metadata": {},
   "source": [
    "Here, we're going to drop the NaN values in the copied one to check how much data loss we have."
   ]
  },
  {
   "cell_type": "code",
   "execution_count": 101,
   "metadata": {},
   "outputs": [
    {
     "name": "stdout",
     "output_type": "stream",
     "text": [
      "Shape of Original data:(537577, 12)\n",
      "Shape of Copy data_copy:(164278, 12)\n"
     ]
    }
   ],
   "source": [
    "data_copy.dropna(inplace=True)\n",
    "print (\"Shape of Original data:{}\".format(data.shape))\n",
    "print (\"Shape of Copy data_copy:{}\".format(data_copy.shape))"
   ]
  },
  {
   "cell_type": "code",
   "execution_count": 92,
   "metadata": {},
   "outputs": [
    {
     "name": "stdout",
     "output_type": "stream",
     "text": [
      "Propotion of missing values in data :0.694\n"
     ]
    }
   ],
   "source": [
    "#(data.shape[0] - data_copy.shape[0])/data.shape[0]\n",
    "print (\"Propotion of missing values in data :{0:.3f}\".format((data.shape[0] - data_copy.shape[0])/data.shape[0]))"
   ]
  },
  {
   "cell_type": "markdown",
   "metadata": {},
   "source": [
    "##### Removing all the NaN values results in losing about 70% of data in the data set. \n",
    "This results in biased model causing model to be underfit.\n",
    "Therefore, we noticed that it might be better to take some available alternate approaches \"imputing\" with mean, mode, 0 or etc. To get ready for further analysis, we thought Product_Category_2 and Product_Category_3 columns are interlinked with values in Product_Category_1, which made us to think that imputing with mean or mode will not going to be a good strtegy. So we thought we'll use only Product_Category_1 which is the upper most category of the product in the later step. But for now to visualize and answer the questions we brought, we will simply fill the NaN values with 0."
   ]
  },
  {
   "cell_type": "code",
   "execution_count": 102,
   "metadata": {},
   "outputs": [
    {
     "data": {
      "text/plain": [
       "User_ID                       0\n",
       "Product_ID                    0\n",
       "Gender                        0\n",
       "Age                           0\n",
       "Occupation                    0\n",
       "City_Category                 0\n",
       "Stay_In_Current_City_Years    0\n",
       "Marital_Status                0\n",
       "Product_Category_1            0\n",
       "Product_Category_2            0\n",
       "Product_Category_3            0\n",
       "Purchase                      0\n",
       "dtype: int64"
      ]
     },
     "execution_count": 102,
     "metadata": {},
     "output_type": "execute_result"
    }
   ],
   "source": [
    "#fill na with zero - imputing w/ 0\n",
    "data.fillna(0, inplace=True)\n",
    "data.isnull().sum()"
   ]
  },
  {
   "cell_type": "markdown",
   "metadata": {},
   "source": [
    "Now that we can see that no NaN values exist in our dataset, which means it's ready for further analysis."
   ]
  },
  {
   "cell_type": "markdown",
   "metadata": {},
   "source": [
    "### Goal 2: Answer the questions and visualize"
   ]
  },
  {
   "cell_type": "markdown",
   "metadata": {},
   "source": [
    "To answer to our 5 questions, we firstly need to create several functions for simplicty."
   ]
  },
  {
   "cell_type": "code",
   "execution_count": 96,
   "metadata": {},
   "outputs": [],
   "source": [
    "#create a function to plot this\n",
    "def count_plot(dataframe, column_name, title =None, hue = None):\n",
    "    \n",
    "    '''\n",
    "    Function to plot seaborn count plot\n",
    "    Input: Dataframe name that has to be plotted, column_name that has to be plotted, title for the graph\n",
    "    Output: Plot the data as a count plot\n",
    "    '''\n",
    "    base_color = sns.color_palette()[0]\n",
    "    sns.countplot(data = dataframe, x = column_name, hue=hue)\n",
    "    plt.title(title)\n",
    "    pass"
   ]
  },
  {
   "cell_type": "code",
   "execution_count": 97,
   "metadata": {},
   "outputs": [],
   "source": [
    "#create an quick & simple bar plot based on pandos plot method\n",
    "def simple_bar_plot(data, title = None):\n",
    "   \n",
    "    '''\n",
    "    A simple bar plot based on pandas plot method\n",
    "    Input: data to be plotted and title for the plot\n",
    "    Output: the plotled graph\n",
    "    '''\n",
    "    data.plot(\"bar\", title = title)\n",
    "    pass"
   ]
  },
  {
   "cell_type": "code",
   "execution_count": 98,
   "metadata": {},
   "outputs": [],
   "source": [
    "#create class handler to get the legend displayed in the plot\n",
    "class TextHandler(HandlerBase):\n",
    "    def create_artists(self, legend, tup ,xdescent, ydescent,\n",
    "                        width, height, fontsize,trans):\n",
    "        '''\n",
    "        Function to display legend for a plot\n",
    "        Input: legend, tuple string, placement of x and y descent, width and hight, font for the legend\n",
    "        Output: retuns the text for legend        \n",
    "        '''\n",
    "        tx = Text(width/2.,height/2,tup[0], fontsize=fontsize,\n",
    "                  ha=\"center\", va=\"center\", color=tup[1], fontweight=\"bold\")\n",
    "        return [tx]"
   ]
  },
  {
   "cell_type": "markdown",
   "metadata": {},
   "source": [
    "#### (1) What all are the products, that have been purchased the most?"
   ]
  },
  {
   "cell_type": "code",
   "execution_count": 99,
   "metadata": {},
   "outputs": [
    {
     "data": {
      "text/plain": [
       "P00265242    1858\n",
       "P00110742    1591\n",
       "P00025442    1586\n",
       "P00112142    1539\n",
       "P00057642    1430\n",
       "P00184942    1424\n",
       "P00046742    1417\n",
       "P00058042    1396\n",
       "P00145042    1384\n",
       "P00059442    1384\n",
       "Name: Product_ID, dtype: int64"
      ]
     },
     "execution_count": 99,
     "metadata": {},
     "output_type": "execute_result"
    }
   ],
   "source": [
    "#top 10 poducts sold\n",
    "data[\"Product_ID\"].value_counts(sort=True)[:10]"
   ]
  },
  {
   "cell_type": "code",
   "execution_count": 101,
   "metadata": {},
   "outputs": [
    {
     "data": {
      "image/png": "[encoded data removed]",
      "text/plain": [
       "<Figure size 432x288 with 1 Axes>"
      ]
     },
     "metadata": {
      "needs_background": "light"
     },
     "output_type": "display_data"
    }
   ],
   "source": [
    "#plotting the top 10 products sold\n",
    "simple_bar_plot(data[\"Product_ID\"].value_counts(sort=True)[:10], title = \"Top 10 products sold\")"
   ]
  },
  {
   "cell_type": "markdown",
   "metadata": {},
   "source": [
    "Here above, we can see that top 10 products are sold more than 1200 in quantity. Unfortunately, we don't have the products description in the data set to get more details of the product so let's see what all product cateogry that interested people."
   ]
  },
  {
   "cell_type": "markdown",
   "metadata": {},
   "source": [
    "#### (2) Which product category has been sold the maximum?"
   ]
  },
  {
   "cell_type": "code",
   "execution_count": 102,
   "metadata": {},
   "outputs": [
    {
     "data": {
      "image/png": "[encoded data removed]",
      "text/plain": [
       "<Figure size 432x288 with 1 Axes>"
      ]
     },
     "metadata": {
      "needs_background": "light"
     },
     "output_type": "display_data"
    }
   ],
   "source": [
    "#plotting the product category\n",
    "simple_bar_plot(data[\"Product_Category_1\"].value_counts(sort=True)[:10], \n",
    "                title = \"Top 10 Product Category of people interested\")"
   ]
  },
  {
   "cell_type": "markdown",
   "metadata": {},
   "source": [
    "The product categories 5, 1, 8 are sold more than 100K whereas the product categories 11, 2, 6, 3 have sold upto 20K. We can see that there's some gap between the top 3 and the rest of the categories. Unfortunately too, we either have no descriptions about categories."
   ]
  },
  {
   "cell_type": "markdown",
   "metadata": {},
   "source": [
    "#### (3) Men or Women, who are likely to spend more in Black Friday Sales?"
   ]
  },
  {
   "cell_type": "code",
   "execution_count": 103,
   "metadata": {},
   "outputs": [
    {
     "data": {
      "image/png": "[encoded data removed]",
      "text/plain": [
       "<Figure size 432x288 with 1 Axes>"
      ]
     },
     "metadata": {
      "needs_background": "light"
     },
     "output_type": "display_data"
    }
   ],
   "source": [
    "#check who purchase more\n",
    "count_plot(data,\"Gender\",\"Men or Women spent more ?\",\"Gender\")"
   ]
  },
  {
   "cell_type": "markdown",
   "metadata": {},
   "source": [
    "Against our guess, the plot shows that men spent a lot in the black friday sales. However, it might be in other way as women purchased a lot and made their spouse pay the bills which leads us try more to understand on marital status of the buyers."
   ]
  },
  {
   "cell_type": "markdown",
   "metadata": {},
   "source": [
    "#### (4) Married or Individuals, who spends more? "
   ]
  },
  {
   "cell_type": "code",
   "execution_count": 104,
   "metadata": {},
   "outputs": [
    {
     "data": {
      "image/png": "[encoded data removed]",
      "text/plain": [
       "<Figure size 432x288 with 1 Axes>"
      ]
     },
     "metadata": {
      "needs_background": "light"
     },
     "output_type": "display_data"
    }
   ],
   "source": [
    "#check who purchses more\n",
    "count_plot(data,\"Marital_Status\",\"Marital Status of Buyers\")"
   ]
  },
  {
   "cell_type": "markdown",
   "metadata": {},
   "source": [
    "The above plot is represented with value of 0 and 1 so, let's plot with the same with proper legend."
   ]
  },
  {
   "cell_type": "code",
   "execution_count": 106,
   "metadata": {},
   "outputs": [
    {
     "data": {
      "image/png": "[encoded data removed]",
      "text/plain": [
       "<Figure size 432x288 with 1 Axes>"
      ]
     },
     "metadata": {
      "needs_background": "light"
     },
     "output_type": "display_data"
    }
   ],
   "source": [
    "ax=sns.countplot(data.Marital_Status) \n",
    "#create the mapping text for the values\n",
    "handltext = [\"0\", \"1\"]\n",
    "labels = [\"Individual\", \"Married\"]\n",
    "#get the X axis tick labels\n",
    "t = ax.get_xticklabels()\n",
    "#map the x values as key and values\n",
    "labeldic = dict(zip(handltext, labels))\n",
    "labels = [labeldic[h.get_text()]  for h in t]\n",
    "handles = [(h.get_text(),c.get_fc()) for h,c in zip(t,ax.patches)]\n",
    "ax.legend(handles, labels, handler_map={tuple : TextHandler()}) \n",
    "plt.title(\"Marital Status of the Buyers\")\n",
    "plt.show()"
   ]
  },
  {
   "cell_type": "markdown",
   "metadata": {},
   "source": [
    "#### (5) Which age group has more interest in these type of sales? "
   ]
  },
  {
   "cell_type": "code",
   "execution_count": 109,
   "metadata": {},
   "outputs": [
    {
     "data": {
      "image/png": "[encoded data removed]",
      "text/plain": [
       "<Figure size 432x288 with 1 Axes>"
      ]
     },
     "metadata": {
      "needs_background": "light"
     },
     "output_type": "display_data"
    }
   ],
   "source": [
    "#sns.countplot(data['Age'])\n",
    "count_plot(data,\"Age\",\"Age Group of Buyers\")"
   ]
  },
  {
   "cell_type": "markdown",
   "metadata": {},
   "source": [
    "The majority of the buyers are from the age group of 26-35. Further, we could additionally check among the age groups that gender was a majority by adding a hue as seen below. More males spent in the sale than females."
   ]
  },
  {
   "cell_type": "code",
   "execution_count": 110,
   "metadata": {},
   "outputs": [
    {
     "data": {
      "image/png": "[encoded data removed]",
      "text/plain": [
       "<Figure size 432x288 with 1 Axes>"
      ]
     },
     "metadata": {
      "needs_background": "light"
     },
     "output_type": "display_data"
    }
   ],
   "source": [
    "count_plot(data,\"Age\",\"Age Group vs Marital Status\", \"Gender\")"
   ]
  },
  {
   "cell_type": "markdown",
   "metadata": {},
   "source": [
    "One Lastthing, let's check Age group vs Marital status of indvidual along with their Gender. Like Grouping the buyers in age group, also we need to see either it's male or female and interested see their marital status.\n",
    "\n",
    "To achieve this we need to create a new combined feature, combining the gender and marital status. Later we can compare that with age group."
   ]
  },
  {
   "cell_type": "code",
   "execution_count": 112,
   "metadata": {},
   "outputs": [
    {
     "name": "stdout",
     "output_type": "stream",
     "text": [
      "['F_0' 'M_0' 'M_1' 'F_1']\n"
     ]
    }
   ],
   "source": [
    "data['combined_G_M'] = data.apply(lambda x:'%s_%s' % (x['Gender'],x['Marital_Status']),axis=1)\n",
    "print(data['combined_G_M'].unique())"
   ]
  },
  {
   "cell_type": "markdown",
   "metadata": {},
   "source": [
    "count_plot(data,\"Age\",\"Age vs Gender vs Marital Status\", \"combined_G_M\")"
   ]
  },
  {
   "cell_type": "markdown",
   "metadata": {},
   "source": [
    "As we see above, there're no bars for the married in the 0-17 range which makes sense. If we look at the 46 and above groups, females are very less. However, on the other hand, married males paying in range 46-55 are also comparatively more than married females. So it could also imply that though ladies do shop a lot, their spouses are possibly paying for it and hence data reflects that men shopped more. If we had more categorical data defining what kind of products were purchased by men, we could dig in this statement further. However, since in this dataset we don't know if there is a category that implies feminine products/clothes we cannot further explore this case."
   ]
  },
  {
   "cell_type": "markdown",
   "metadata": {},
   "source": [
    "### End of the Exploring original dataset\n",
    "So far, we explored how the data looks like, what it contains and discoverd some several important signals that might be used in the later steps. With the knowledge of the data like proportion of missing values in specific columns and insights we got from answering the questions, we hope all this efforts would contribute to our project."
   ]
  },
  {
   "cell_type": "markdown",
   "metadata": {},
   "source": []
  },
  {
   "cell_type": "markdown",
   "metadata": {},
   "source": [
    "## 4. Correlation analysis to data\n",
    "Using clean data, we are going to analyze correlation between attributes. \n",
    "##### - goal of the step:\n",
    " * to find out important relationships between features."
   ]
  },
  {
   "cell_type": "markdown",
   "metadata": {},
   "source": [
    "##########################-> 여기 지원 합성!!!!!!!!!!!"
   ]
  },
  {
   "cell_type": "markdown",
   "metadata": {},
   "source": [
    "## 5. Data Preprocessing & Model the data\n",
    "\n",
    "##### - goal of the step:\n",
    " * clean the data by handling missing values\n",
    " * build baseline model to compare with\n",
    " * build recommendation system using item based \n",
    "\n",
    "##### - rough outline of building model:\n",
    " * 5.1 import modules & packages\n",
    " * 5.2 load data and data preparation\n",
    " * 5.3 baseline model - popularity based\n",
    " * 5.4 collaborative filtering model - user based\n",
    " * 5.5 collaborative filtering model - user based with metadata : age\n",
    " * 5.6 model selection\n",
    " * 5.7 final output\n"
   ]
  },
  {
   "cell_type": "markdown",
   "metadata": {},
   "source": [
    "### 5.1 Import Modules & Packages"
   ]
  },
  {
   "cell_type": "code",
   "execution_count": 4,
   "metadata": {},
   "outputs": [],
   "source": [
    "import pandas as pd\n",
    "import numpy as np\n",
    "from numpy import dot\n",
    "from numpy.linalg import norm\n",
    "from sklearn.model_selection import train_test_split\n",
    "from sklearn.utils import shuffle\n",
    "from sklearn.metrics import confusion_matrix"
   ]
  },
  {
   "cell_type": "markdown",
   "metadata": {},
   "source": [
    "### 5.2 Load Data and Data Preparation"
   ]
  },
  {
   "cell_type": "markdown",
   "metadata": {},
   "source": [
    "We used the data of users who have bought more than 300 products. We used memory based CF, which needs enough history data for each user in order to recommend reasonably."
   ]
  },
  {
   "cell_type": "code",
   "execution_count": 5,
   "metadata": {},
   "outputs": [],
   "source": [
    "# load the data\n",
    "path = 'BlackFriday.csv'\n",
    "data = pd.read_csv(path)\n",
    "\n",
    "# drop unnecessary columns to build matrices\n",
    "data = data.drop(['Gender', 'Occupation', 'City_Category',\n",
    "                  'Stay_In_Current_City_Years', 'Marital_Status',\n",
    "                  'Product_Category_1', 'Product_Category_2',\n",
    "                  'Product_Category_3', 'Purchase'], axis=1)\n",
    "\n",
    "# count number of items purchased for each user & prepare for data selection\n",
    "data2 = data.groupby(['User_ID']).count()\n",
    "df = pd.DataFrame({'User_ID':data2['Product_ID'].index, 'countProduct':data2['Product_ID'].values})\n",
    "data = data.join(df.set_index('User_ID'), on='User_ID').sort_values(['User_ID'])\n",
    "\n",
    "# drop data whose countProduct is less than 300\n",
    "data = data[data.countProduct >= 300]\n",
    "data = data.reset_index(drop = True)\n",
    "\n",
    "# data about users (312 users)\n",
    "users = pd.DataFrame(data.User_ID.unique())\n",
    "users.columns = ['User_ID']\n",
    "users_length = len(users)\n",
    "\n",
    "# data about products\n",
    "products = pd.DataFrame(data.Product_ID.unique())\n",
    "products.columns = ['Product_ID']\n",
    "products_length = len(products)\n",
    "\n",
    "# to mark the item purchased by the user\n",
    "data['purchased'] = 1\n",
    "\n",
    "# build a matrix with entry 1 if the user purchased the item or 0 if not\n",
    "df_matrix = pd.pivot_table(data, values='purchased', index='User_ID', columns='Product_ID', fill_value=0)\n",
    "\n",
    "# df has user and countProduct whose countProduct >= 300\n",
    "user_cnt_info = pd.DataFrame({'User_ID':data['User_ID'], 'countProduct':data['countProduct']})\n",
    "user_cnt_info = user_cnt_info.groupby(['User_ID', 'countProduct']).count().reset_index()"
   ]
  },
  {
   "cell_type": "code",
   "execution_count": null,
   "metadata": {},
   "outputs": [],
   "source": [
    "# Giving Age Numerical values\n",
    "# this cell is for collaborative filtering with age metatdata\n",
    "age_dict = {'0-17':0, '18-25':1, '26-35':2, '36-45':3, '46-50':4, '51-55':5, '55+':6}\n",
    "data[\"Age\"] = data[\"Age\"].apply(lambda line: age_dict[line])\n",
    "data.Age.value_counts()"
   ]
  },
  {
   "cell_type": "code",
   "execution_count": null,
   "metadata": {},
   "outputs": [],
   "source": [
    "data_user_info = pd.DataFrame(data.User_ID.unique())\n",
    "data_user_info.columns = ['User_ID']\n",
    "data_user_age = data.drop(['Product_ID', 'countProduct', 'purchased'], axis = 1).drop_duplicates().set_index('User_ID')\n",
    "data_user_age_dict = data_user_age['Age'].to_dict()"
   ]
  },
  {
   "cell_type": "markdown",
   "metadata": {},
   "source": [
    "###### - Data split\n",
    "\n",
    "We divied data into three parts : train, val, test data.\n",
    "\n",
    "From 300 or more products per user, we randomly chose 10 products and store the user_id, product_id information to validation data set, and chose another 10 products and store them into test data set. The remaining tuples are sotred as train dataset.\n",
    "\n",
    "From train dataset, we recommend some products to each users and check if the model is working well using validation dataset."
   ]
  },
  {
   "cell_type": "code",
   "execution_count": null,
   "metadata": {},
   "outputs": [],
   "source": [
    "'''This cell is to split train, val, test data.'''\n",
    "\n",
    "'''test = pd.DataFrame()\n",
    "val = pd.DataFrame()\n",
    "train = pd.DataFrame()\n",
    "\n",
    "i = 0\n",
    "j = 0\n",
    "\n",
    "while i < len(data):\n",
    "    cnt = data.loc[i].countProduct\n",
    "    tmp = data[i: i+cnt]\n",
    "    tmp = shuffle(tmp).reset_index()\n",
    "    test = test.append(tmp[0:10])\n",
    "    val = val.append(tmp[10:20])\n",
    "    train = train.append(tmp[20:])\n",
    "    j = j + 1\n",
    "    i = i + cnt\n",
    "    \n",
    "train.to_csv(\"train_data.csv\", mode='w')\n",
    "val.to_csv(\"val_data.csv\", mode='w')\n",
    "test.to_csv(\"test_data.csv\", mode='w')'''"
   ]
  },
  {
   "cell_type": "code",
   "execution_count": 6,
   "metadata": {},
   "outputs": [],
   "source": [
    "'''This cell is to load saved train, val, test data.'''\n",
    "\n",
    "train = pd.read_csv('train_data.csv')\n",
    "val = pd.read_csv('val_data.csv')\n",
    "test = pd.read_csv('test_data.csv')\n",
    "\n",
    "train = train.drop(['Unnamed: 0', 'index'], axis=1)\n",
    "val = val.drop(['Unnamed: 0', 'index'], axis=1)\n",
    "test =test.drop(['Unnamed: 0', 'index'], axis=1)\n",
    "\n",
    "train = pd.merge(train, data_user_age)\n",
    "val = pd.merge(val, data_user_age)\n",
    "test = pd.merge(test, data_user_age)"
   ]
  },
  {
   "cell_type": "markdown",
   "metadata": {},
   "source": [
    "### 5.3 Baseline model - Popularity model"
   ]
  },
  {
   "cell_type": "markdown",
   "metadata": {},
   "source": [
    "To tell whether our recommendation system is working well on data or not, we should have a baseline model to compare with. \n",
    "\n",
    "* Here, we adopted a popularity model that recommends top-5 most purchased product to users.\n",
    "\n",
    "- Our plan for building a popularity baseline model is like this.\n",
    "    * load the train & validation data and preprocess the data\n",
    "    * build a train matrix with top-5 Product_ID and User_ID.\n",
    "    * build a matrix with the same matrix frame with the step 1's but with all entries 1.\n",
    "    * use similarity between 2 vectors of 5-dimensionality below\n",
    "        - one with the recommendation result matrix,which is step 3 matrix - step 2 matrix\n",
    "            * the result matrix would have entry with 1 only when the user didn't buy the product in train data but now they got recommended.\n",
    "        - the other with the validation martix with entry only 1 when user bought the product in validation set\n",
    "            * this would act as like a answer.\n",
    "         - cf. we exclude and keep our test data unexposed just in case!"
   ]
  },
  {
   "cell_type": "markdown",
   "metadata": {},
   "source": [
    "### 5.3.1. Load the train and validation data\n",
    "- These pre-splitted train and validation data is exactly the same with the data set we used to build our own recommendation model.\n",
    "    * We split train and validation of a user who bought more than 300 items."
   ]
  },
  {
   "cell_type": "code",
   "execution_count": 21,
   "metadata": {},
   "outputs": [],
   "source": [
    "# load the train data\n",
    "train = pd.read_csv(\"train_data.csv\")\n",
    "# load the validation data\n",
    "val = pd.read_csv(\"val_data.csv\")"
   ]
  },
  {
   "cell_type": "markdown",
   "metadata": {},
   "source": [
    "Since we only need User_ID,Product_ID, and purchased to build a baseline model, we'll drop all other columns here."
   ]
  },
  {
   "cell_type": "code",
   "execution_count": 22,
   "metadata": {},
   "outputs": [],
   "source": [
    "#drop columns of a train data\n",
    "train = train.drop(['Unnamed: 0', 'index', 'countProduct'], axis=1)\n",
    "#drop columns of a validation data\n",
    "val = val.drop(['Unnamed: 0', 'index', 'countProduct'], axis=1)"
   ]
  },
  {
   "cell_type": "markdown",
   "metadata": {},
   "source": [
    "In the introduction of building this baseline model, we planned to recommend the top 5 most-frequently pruchased items to all users. This indicates that we don't need any rows with the Product_ID that's not in the list of top-5 Product_ID. For this deletion step, firstly, we need to know the which items are top-5 things."
   ]
  },
  {
   "cell_type": "markdown",
   "metadata": {},
   "source": [
    "### 5.3.2. Top-5 most frequently-purchased items & preprocessing\n",
    "Here, we are going to discover 5 items that were most frequently purchased. To do this, we refer to the code we wrote in the very first of our data pipeline step, exploratory data analysis. Only difference is here we use top-5 but before, we had top-10."
   ]
  },
  {
   "cell_type": "code",
   "execution_count": 23,
   "metadata": {},
   "outputs": [
    {
     "data": {
      "text/plain": [
       "P00265242    1858\n",
       "P00110742    1591\n",
       "P00025442    1586\n",
       "P00112142    1539\n",
       "P00057642    1430\n",
       "Name: Product_ID, dtype: int64"
      ]
     },
     "execution_count": 23,
     "metadata": {},
     "output_type": "execute_result"
    }
   ],
   "source": [
    "# load an original data set\n",
    "origin = pd.read_csv(\"BlackFriday.csv\")\n",
    "#top-5 poducts sold\n",
    "origin[\"Product_ID\"].value_counts(sort=True)[:5]"
   ]
  },
  {
   "cell_type": "markdown",
   "metadata": {},
   "source": [
    "Those 5 Product_IDs are from the very original data set.\n",
    "Now, it's time to delete all the rows with non-top-5 items!"
   ]
  },
  {
   "cell_type": "code",
   "execution_count": 24,
   "metadata": {},
   "outputs": [],
   "source": [
    "new_train_1 = train[(train.Product_ID == 'P00265242')]\n",
    "new_train_2 = train[(train.Product_ID == 'P00110742')]\n",
    "new_train_3 = train[(train.Product_ID == 'P00025442')]\n",
    "new_train_4 = train[(train.Product_ID == 'P00112142')]\n",
    "new_train_5 = train[(train.Product_ID == 'P00057642')]\n",
    "new_train = pd.concat([new_train_1, new_train_2, new_train_3, new_train_4, new_train_5])\n",
    "\n",
    "new_val_1 = val[(val.Product_ID == 'P00265242')]\n",
    "new_val_2 = val[(val.Product_ID == 'P00110742')]\n",
    "new_val_3 = val[(val.Product_ID == 'P00025442')]\n",
    "new_val_4 = val[(val.Product_ID == 'P00112142')]\n",
    "new_val_5 = val[(val.Product_ID == 'P00057642')]\n",
    "new_val = pd.concat([new_val_1, new_val_2, new_val_3, new_val_4, new_val_5])"
   ]
  },
  {
   "cell_type": "markdown",
   "metadata": {},
   "source": [
    "Now, we got a same dataframe of User_ID and top-5 items for the train and validation data."
   ]
  },
  {
   "cell_type": "markdown",
   "metadata": {},
   "source": [
    "### 5.3.3. Build a Matrix\n",
    "Here, we are going to transfrom the dataframe above into the matrix of User_ID and 5 Product_ID with the entry 0 or 1. 0 means the user didn't purchased the item or get the recommendation. On the other hand, 1 means the user bought the item or get the recommendation.\n",
    "- Matrices we need & meaning\n",
    "    * train matrix : shows the purchased history of users for the 5 items.\n",
    "    * recommendation matrix : matrix with all 1 - train matrix \n",
    "    -> recommending top 5 items to all users in train matrix\n",
    "           1 for the recommend the item, 0 for no recommendation for the item since the user already bought it.\n",
    "    * validation matrix : kind of an answer matrix.\n",
    " - compute cosine similarity of each user vector of recommendation matrix & validation matrix if the user exists both in two matrices.\n",
    " - that would act as an accuracy of our baseline model!"
   ]
  },
  {
   "cell_type": "code",
   "execution_count": 25,
   "metadata": {},
   "outputs": [],
   "source": [
    "#building a train matrix\n",
    "new_train_matrix = pd.pivot_table(new_train, values='purchased', index='User_ID', columns='Product_ID', fill_value=0)\n",
    "#budling a validation matrix\n",
    "new_val_matrix = pd.pivot_table(new_val, values='purchased', index='User_ID', columns='Product_ID', fill_value=0)\n",
    "#building a matrix with all entries 1\n",
    "new_recom_matrix = pd.pivot_table(new_train, index='User_ID', columns='Product_ID', fill_value=1)\n",
    "\n",
    "#gain a recommendation matrix\n",
    "new_recom_matrix = new_recom_matrix - new_train_matrix"
   ]
  },
  {
   "cell_type": "markdown",
   "metadata": {},
   "source": [
    "Here, we got a recommendation matrix! \n",
    "* entry of 1 : recommend the item to the user since user didn't purchase it in the train matrix.\n",
    "* entry of 0 : do not recommend the item to the user since user already bought it in the train matrix.\n",
    "- So, to sum up, we only recommend the item to the user in the case the user didn't bought the item before(train set)."
   ]
  },
  {
   "cell_type": "markdown",
   "metadata": {},
   "source": [
    "### 5.3.4. Implement a Consine Similarity Function & Compute Similarity"
   ]
  },
  {
   "cell_type": "code",
   "execution_count": 26,
   "metadata": {},
   "outputs": [],
   "source": [
    "# defined a consine similarity function\n",
    "\n",
    "def cos_sim(A, B):\n",
    "    if(norm(A)==0 or norm(B)==0):\n",
    "        return 0\n",
    "    else:\n",
    "        return dot(A, B)/(norm(A)*norm(B))  "
   ]
  },
  {
   "cell_type": "code",
   "execution_count": 27,
   "metadata": {},
   "outputs": [],
   "source": [
    "#keep the User_ID of train matrix & top-5 items' Product_ID as a dataframe\n",
    "users = pd.DataFrame(new_train.User_ID.unique())\n",
    "users.columns = ['User_ID']\n",
    "users_length = len(users)\n",
    "\n",
    "top5products = pd.DataFrame(new_val.Product_ID.unique())\n",
    "top5products.columns = ['Product_ID']\n",
    "top5products_length = len(top5products)\n",
    "\n",
    "#keep the User_ID of validation matrix\n",
    "val_user_info = pd.DataFrame(new_val.User_ID)\n",
    "val_user_info.columns = ['User_ID']\n",
    "\n",
    "val_users_length = len(val_user_info)\n",
    "new_similarity_matrix = np.zeros(shape=(val_users_length, 1))"
   ]
  },
  {
   "cell_type": "code",
   "execution_count": 28,
   "metadata": {},
   "outputs": [],
   "source": [
    "#compute a similarity between user vectors of 5 dimesionality for the user who exist both in recommendation & validation matrix\n",
    "for i, user1 in enumerate(val_user_info['User_ID']):\n",
    "    for user2 in new_recom_matrix.index:\n",
    "        if(user1 == user2):\n",
    "            user_recom = np.array(new_recom_matrix.loc[user1])\n",
    "            user_val = np.array(new_val_matrix.loc[user2])\n",
    "            \n",
    "            new_similarity_matrix[i] = cos_sim(user_recom, user_val)"
   ]
  },
  {
   "cell_type": "code",
   "execution_count": 29,
   "metadata": {},
   "outputs": [
    {
     "data": {
      "text/html": [
       "<div>\n",
       "<style scoped>\n",
       "    .dataframe tbody tr th:only-of-type {\n",
       "        vertical-align: middle;\n",
       "    }\n",
       "\n",
       "    .dataframe tbody tr th {\n",
       "        vertical-align: top;\n",
       "    }\n",
       "\n",
       "    .dataframe thead th {\n",
       "        text-align: right;\n",
       "    }\n",
       "</style>\n",
       "<table border=\"1\" class=\"dataframe\">\n",
       "  <thead>\n",
       "    <tr style=\"text-align: right;\">\n",
       "      <th></th>\n",
       "      <th>0</th>\n",
       "    </tr>\n",
       "  </thead>\n",
       "  <tbody>\n",
       "    <tr>\n",
       "      <th>count</th>\n",
       "      <td>23.000000</td>\n",
       "    </tr>\n",
       "    <tr>\n",
       "      <th>mean</th>\n",
       "      <td>0.566286</td>\n",
       "    </tr>\n",
       "    <tr>\n",
       "      <th>std</th>\n",
       "      <td>0.168464</td>\n",
       "    </tr>\n",
       "    <tr>\n",
       "      <th>min</th>\n",
       "      <td>0.000000</td>\n",
       "    </tr>\n",
       "    <tr>\n",
       "      <th>25%</th>\n",
       "      <td>0.500000</td>\n",
       "    </tr>\n",
       "    <tr>\n",
       "      <th>50%</th>\n",
       "      <td>0.577350</td>\n",
       "    </tr>\n",
       "    <tr>\n",
       "      <th>75%</th>\n",
       "      <td>0.577350</td>\n",
       "    </tr>\n",
       "    <tr>\n",
       "      <th>max</th>\n",
       "      <td>1.000000</td>\n",
       "    </tr>\n",
       "  </tbody>\n",
       "</table>\n",
       "</div>"
      ],
      "text/plain": [
       "               0\n",
       "count  23.000000\n",
       "mean    0.566286\n",
       "std     0.168464\n",
       "min     0.000000\n",
       "25%     0.500000\n",
       "50%     0.577350\n",
       "75%     0.577350\n",
       "max     1.000000"
      ]
     },
     "execution_count": 29,
     "metadata": {},
     "output_type": "execute_result"
    }
   ],
   "source": [
    "pd.DataFrame(new_similarity_matrix).describe()"
   ]
  },
  {
   "cell_type": "markdown",
   "metadata": {},
   "source": [
    "### 5.3.5 Evaluate the Baseline\n",
    "\n",
    "We are going to evaluate the baseline model with precision, recall, accuracy, and f_score."
   ]
  },
  {
   "cell_type": "code",
   "execution_count": 34,
   "metadata": {},
   "outputs": [],
   "source": [
    "precision = np.zeros(shape=(val_users_length, 1))\n",
    "recall = np.zeros(shape=(val_users_length, 1))\n",
    "accuracy = np.zeros(shape=(val_users_length, 1))\n",
    "f_score = np.zeros(shape=(val_users_length, 1))\n",
    "\n",
    "for i, user1 in enumerate(val_user_info['User_ID']):\n",
    "    for user2 in new_recom_matrix.index:\n",
    "        if(user1 == user2):\n",
    "            user_recom = np.array(new_recom_matrix.loc[user1])\n",
    "            user_val = np.array(new_val_matrix.loc[user2])\n",
    "            \n",
    "            conf = confusion_matrix(user_val, user_recom)\n",
    "            TP = conf[0][0]\n",
    "            FP = conf[0][1]\n",
    "            FN = conf[1][0]\n",
    "            TN = conf[1][1]\n",
    "            \n",
    "            precision[i] = TP/(TP+FP)\n",
    "            accuracy[i] = (TP+TN)/(TP+TN+FP+FN)\n",
    "            recall[i] = TP/(TP+FN)\n",
    "            f_score[i] = 2*(precision[i]*recall[i])/(precision[i]+recall[i]) "
   ]
  },
  {
   "cell_type": "code",
   "execution_count": 35,
   "metadata": {},
   "outputs": [
    {
     "name": "stdout",
     "output_type": "stream",
     "text": [
      "accuracy  :  0.5565217391304348\n",
      "recall    :  0.9565217391304348\n",
      "precision :  0.45652173913043476\n",
      "f_score   :  0.5925465838509316\n"
     ]
    }
   ],
   "source": [
    "avg_precision = precision.mean()\n",
    "avg_recall = recall.mean()\n",
    "avg_accuracy = accuracy.mean()\n",
    "avg_f_score = f_score.mean()\n",
    "\n",
    "print(\"accuracy  : \", avg_accuracy)\n",
    "print(\"recall    : \", avg_recall)\n",
    "print(\"precision : \", avg_precision)\n",
    "print(\"f_score   : \", avg_f_score)"
   ]
  },
  {
   "cell_type": "markdown",
   "metadata": {},
   "source": [
    "- This would act like a baseline model's accuracy to compare with the accuracy of our new recommendation model.\n",
    "- Here, we can see the similarity 1 the highest value obtainable, min  0.5.\n",
    "- We guess this would be somehow already very well-built model for baseline model with the sound similarity matrix, the accuracy. However, since we had some size difference between recommendation matrix and validation matrix and also it was just for the top-5 items it could fall behind the model we'd built in the next step or even do better than it with far more data. \n",
    "- Comparison with this baseline model and new recommendation model will come after building the new one!"
   ]
  },
  {
   "cell_type": "markdown",
   "metadata": {},
   "source": [
    "### 5.4 Collaborative Filtering Model - user based"
   ]
  },
  {
   "cell_type": "markdown",
   "metadata": {},
   "source": [
    "**User based collaborative filetering model** uses `User_ID` and `Product_ID` attributes.\n",
    "\n",
    "First, we construct a matrix whose row is `User_ID`, column is `Product_ID` and value is 1 if purchased, 0 otherwise. \n",
    "\n",
    "Then we compute the similarity between each users by computing cosine similarity of row vecotrs. This results in `user-user matrix` whose value is filled with the cosine similarity. \n",
    "\n",
    "After that, for each user, we select 5 similar users and recommend to the user if the user has not bought a product A, but the similar user ahs bought that product. In this way, `recommend matrix` is constructed. \n",
    "\n",
    "Using validation set which serves as answer data set, we evaluate how accurate the recommendation is."
   ]
  },
  {
   "cell_type": "markdown",
   "metadata": {},
   "source": [
    "### 5.4.1 Build matrices needed for the model"
   ]
  },
  {
   "cell_type": "code",
   "execution_count": 69,
   "metadata": {},
   "outputs": [],
   "source": [
    "#keep the User_ID of train matrix\n",
    "users = pd.DataFrame(train.User_ID.unique())\n",
    "users.columns = ['User_ID']\n",
    "users_length = len(users)"
   ]
  },
  {
   "cell_type": "code",
   "execution_count": 85,
   "metadata": {},
   "outputs": [],
   "source": [
    "train_matrix = pd.pivot_table(train, values='purchased', index='User_ID', columns='Product_ID', fill_value=0)\n",
    "\n",
    "train_products = pd.DataFrame(train.Product_ID.unique())\n",
    "train_products.columns = ['Product_ID']\n",
    "train_products_length = len(train_products)\n",
    "\n",
    "val_matrix = pd.pivot_table(val, values='purchased', index='User_ID', columns='Product_ID', fill_value=0)\n",
    "\n",
    "val_products = pd.DataFrame(val.Product_ID.unique())\n",
    "val_products.columns = ['Product_ID']\n",
    "val_products = val_products.sort_values('Product_ID')\n",
    "val_products_length = len(val_products)\n",
    "\n",
    "val_user_info = pd.DataFrame(val.User_ID.unique())\n",
    "val_user_info.columns = ['User_ID']\n",
    "val_users_length = len(val_user_info)\n",
    "\n",
    "\n",
    "test_matrix = pd.pivot_table(test, values='purchased', index='User_ID', columns='Product_ID', fill_value=0)\n",
    "\n",
    "test_products = pd.DataFrame(test.Product_ID.unique())\n",
    "test_products.columns = ['Product_ID']\n",
    "test_products = test_products.sort_values('Product_ID')\n",
    "test_products_length = len(test_products)\n",
    "\n",
    "test_user_info = pd.DataFrame(test.User_ID.unique())\n",
    "test_user_info.columns = ['User_ID']\n",
    "test_users_length = len(test_user_info)"
   ]
  },
  {
   "cell_type": "markdown",
   "metadata": {},
   "source": [
    "### 5.4.2 Compute the similarity between users"
   ]
  },
  {
   "cell_type": "code",
   "execution_count": null,
   "metadata": {},
   "outputs": [],
   "source": [
    "'''This cell is to compute similarity between users and store them into user_user_matrix.'''\n",
    "\n",
    "'''# compute similarity between users\n",
    "user_user_matrix = np.zeros(shape=(users_length,users_length))\n",
    "\n",
    "i = 0\n",
    "j = 0\n",
    "for user1 in users['User_ID']:\n",
    "    user_1 = np.array(train_matrix.loc[user1])\n",
    "    j = 0\n",
    "    for user2 in users['User_ID']:\n",
    "        user_2 = np.array(train_matrix.loc[user2])\n",
    "        user_user_matrix[i][j] = cos_sim(user_1, user_2)\n",
    "        j = j+1\n",
    "    i = i+1\n",
    "    \n",
    "np.savetxt('user_user_matrix.csv', user_user_matrix, delimiter=',')'''"
   ]
  },
  {
   "cell_type": "code",
   "execution_count": 8,
   "metadata": {},
   "outputs": [],
   "source": [
    "'''This cell is to load saved user_user_matrix'''\n",
    "user_user_matrix = pd.read_csv('user_user_matrix.csv', header = None)"
   ]
  },
  {
   "cell_type": "code",
   "execution_count": 9,
   "metadata": {},
   "outputs": [
    {
     "data": {
      "text/html": [
       "<div>\n",
       "<style scoped>\n",
       "    .dataframe tbody tr th:only-of-type {\n",
       "        vertical-align: middle;\n",
       "    }\n",
       "\n",
       "    .dataframe tbody tr th {\n",
       "        vertical-align: top;\n",
       "    }\n",
       "\n",
       "    .dataframe thead th {\n",
       "        text-align: right;\n",
       "    }\n",
       "</style>\n",
       "<table border=\"1\" class=\"dataframe\">\n",
       "  <thead>\n",
       "    <tr style=\"text-align: right;\">\n",
       "      <th></th>\n",
       "      <th>0</th>\n",
       "      <th>1</th>\n",
       "      <th>2</th>\n",
       "      <th>3</th>\n",
       "      <th>4</th>\n",
       "      <th>5</th>\n",
       "      <th>6</th>\n",
       "      <th>7</th>\n",
       "      <th>8</th>\n",
       "      <th>9</th>\n",
       "      <th>...</th>\n",
       "      <th>302</th>\n",
       "      <th>303</th>\n",
       "      <th>304</th>\n",
       "      <th>305</th>\n",
       "      <th>306</th>\n",
       "      <th>307</th>\n",
       "      <th>308</th>\n",
       "      <th>309</th>\n",
       "      <th>310</th>\n",
       "      <th>311</th>\n",
       "    </tr>\n",
       "  </thead>\n",
       "  <tbody>\n",
       "    <tr>\n",
       "      <th>count</th>\n",
       "      <td>312.000000</td>\n",
       "      <td>312.000000</td>\n",
       "      <td>312.000000</td>\n",
       "      <td>312.000000</td>\n",
       "      <td>312.000000</td>\n",
       "      <td>312.000000</td>\n",
       "      <td>312.000000</td>\n",
       "      <td>312.000000</td>\n",
       "      <td>312.000000</td>\n",
       "      <td>312.000000</td>\n",
       "      <td>...</td>\n",
       "      <td>312.000000</td>\n",
       "      <td>312.000000</td>\n",
       "      <td>312.000000</td>\n",
       "      <td>312.000000</td>\n",
       "      <td>312.000000</td>\n",
       "      <td>312.000000</td>\n",
       "      <td>312.000000</td>\n",
       "      <td>312.000000</td>\n",
       "      <td>312.000000</td>\n",
       "      <td>312.000000</td>\n",
       "    </tr>\n",
       "    <tr>\n",
       "      <th>mean</th>\n",
       "      <td>0.242877</td>\n",
       "      <td>0.222935</td>\n",
       "      <td>0.220627</td>\n",
       "      <td>0.213614</td>\n",
       "      <td>0.213681</td>\n",
       "      <td>0.236882</td>\n",
       "      <td>0.166566</td>\n",
       "      <td>0.224203</td>\n",
       "      <td>0.238222</td>\n",
       "      <td>0.222579</td>\n",
       "      <td>...</td>\n",
       "      <td>0.268221</td>\n",
       "      <td>0.194097</td>\n",
       "      <td>0.231013</td>\n",
       "      <td>0.205481</td>\n",
       "      <td>0.180260</td>\n",
       "      <td>0.246505</td>\n",
       "      <td>0.216667</td>\n",
       "      <td>0.223584</td>\n",
       "      <td>0.222106</td>\n",
       "      <td>0.207580</td>\n",
       "    </tr>\n",
       "    <tr>\n",
       "      <th>std</th>\n",
       "      <td>0.059481</td>\n",
       "      <td>0.054777</td>\n",
       "      <td>0.058278</td>\n",
       "      <td>0.061369</td>\n",
       "      <td>0.057937</td>\n",
       "      <td>0.053603</td>\n",
       "      <td>0.063260</td>\n",
       "      <td>0.054565</td>\n",
       "      <td>0.059990</td>\n",
       "      <td>0.058826</td>\n",
       "      <td>...</td>\n",
       "      <td>0.056260</td>\n",
       "      <td>0.055223</td>\n",
       "      <td>0.054030</td>\n",
       "      <td>0.058368</td>\n",
       "      <td>0.058040</td>\n",
       "      <td>0.060089</td>\n",
       "      <td>0.056808</td>\n",
       "      <td>0.056586</td>\n",
       "      <td>0.056563</td>\n",
       "      <td>0.053698</td>\n",
       "    </tr>\n",
       "    <tr>\n",
       "      <th>min</th>\n",
       "      <td>0.088991</td>\n",
       "      <td>0.125844</td>\n",
       "      <td>0.083959</td>\n",
       "      <td>0.072775</td>\n",
       "      <td>0.097439</td>\n",
       "      <td>0.111906</td>\n",
       "      <td>0.064847</td>\n",
       "      <td>0.126576</td>\n",
       "      <td>0.098041</td>\n",
       "      <td>0.072942</td>\n",
       "      <td>...</td>\n",
       "      <td>0.103102</td>\n",
       "      <td>0.088291</td>\n",
       "      <td>0.087887</td>\n",
       "      <td>0.054354</td>\n",
       "      <td>0.075857</td>\n",
       "      <td>0.089603</td>\n",
       "      <td>0.118913</td>\n",
       "      <td>0.077267</td>\n",
       "      <td>0.106662</td>\n",
       "      <td>0.116916</td>\n",
       "    </tr>\n",
       "    <tr>\n",
       "      <th>25%</th>\n",
       "      <td>0.214899</td>\n",
       "      <td>0.196530</td>\n",
       "      <td>0.194169</td>\n",
       "      <td>0.185287</td>\n",
       "      <td>0.188138</td>\n",
       "      <td>0.214224</td>\n",
       "      <td>0.135364</td>\n",
       "      <td>0.199422</td>\n",
       "      <td>0.208905</td>\n",
       "      <td>0.197063</td>\n",
       "      <td>...</td>\n",
       "      <td>0.241843</td>\n",
       "      <td>0.171114</td>\n",
       "      <td>0.206106</td>\n",
       "      <td>0.181502</td>\n",
       "      <td>0.155551</td>\n",
       "      <td>0.216800</td>\n",
       "      <td>0.190057</td>\n",
       "      <td>0.196680</td>\n",
       "      <td>0.195244</td>\n",
       "      <td>0.184093</td>\n",
       "    </tr>\n",
       "    <tr>\n",
       "      <th>50%</th>\n",
       "      <td>0.243309</td>\n",
       "      <td>0.220826</td>\n",
       "      <td>0.219788</td>\n",
       "      <td>0.214015</td>\n",
       "      <td>0.211697</td>\n",
       "      <td>0.236056</td>\n",
       "      <td>0.163021</td>\n",
       "      <td>0.224248</td>\n",
       "      <td>0.240938</td>\n",
       "      <td>0.217236</td>\n",
       "      <td>...</td>\n",
       "      <td>0.264620</td>\n",
       "      <td>0.192780</td>\n",
       "      <td>0.229900</td>\n",
       "      <td>0.204677</td>\n",
       "      <td>0.178914</td>\n",
       "      <td>0.246273</td>\n",
       "      <td>0.217652</td>\n",
       "      <td>0.225656</td>\n",
       "      <td>0.222008</td>\n",
       "      <td>0.202969</td>\n",
       "    </tr>\n",
       "    <tr>\n",
       "      <th>75%</th>\n",
       "      <td>0.270836</td>\n",
       "      <td>0.242606</td>\n",
       "      <td>0.244294</td>\n",
       "      <td>0.238391</td>\n",
       "      <td>0.236562</td>\n",
       "      <td>0.255225</td>\n",
       "      <td>0.191840</td>\n",
       "      <td>0.245590</td>\n",
       "      <td>0.265239</td>\n",
       "      <td>0.248056</td>\n",
       "      <td>...</td>\n",
       "      <td>0.290764</td>\n",
       "      <td>0.209289</td>\n",
       "      <td>0.249275</td>\n",
       "      <td>0.226769</td>\n",
       "      <td>0.200257</td>\n",
       "      <td>0.269501</td>\n",
       "      <td>0.238211</td>\n",
       "      <td>0.248802</td>\n",
       "      <td>0.243202</td>\n",
       "      <td>0.226811</td>\n",
       "    </tr>\n",
       "    <tr>\n",
       "      <th>max</th>\n",
       "      <td>1.000000</td>\n",
       "      <td>1.000000</td>\n",
       "      <td>1.000000</td>\n",
       "      <td>1.000000</td>\n",
       "      <td>1.000000</td>\n",
       "      <td>1.000000</td>\n",
       "      <td>1.000000</td>\n",
       "      <td>1.000000</td>\n",
       "      <td>1.000000</td>\n",
       "      <td>1.000000</td>\n",
       "      <td>...</td>\n",
       "      <td>1.000000</td>\n",
       "      <td>1.000000</td>\n",
       "      <td>1.000000</td>\n",
       "      <td>1.000000</td>\n",
       "      <td>1.000000</td>\n",
       "      <td>1.000000</td>\n",
       "      <td>1.000000</td>\n",
       "      <td>1.000000</td>\n",
       "      <td>1.000000</td>\n",
       "      <td>1.000000</td>\n",
       "    </tr>\n",
       "  </tbody>\n",
       "</table>\n",
       "<p>8 rows × 312 columns</p>\n",
       "</div>"
      ],
      "text/plain": [
       "              0           1           2           3           4           5    \\\n",
       "count  312.000000  312.000000  312.000000  312.000000  312.000000  312.000000   \n",
       "mean     0.242877    0.222935    0.220627    0.213614    0.213681    0.236882   \n",
       "std      0.059481    0.054777    0.058278    0.061369    0.057937    0.053603   \n",
       "min      0.088991    0.125844    0.083959    0.072775    0.097439    0.111906   \n",
       "25%      0.214899    0.196530    0.194169    0.185287    0.188138    0.214224   \n",
       "50%      0.243309    0.220826    0.219788    0.214015    0.211697    0.236056   \n",
       "75%      0.270836    0.242606    0.244294    0.238391    0.236562    0.255225   \n",
       "max      1.000000    1.000000    1.000000    1.000000    1.000000    1.000000   \n",
       "\n",
       "              6           7           8           9       ...             302  \\\n",
       "count  312.000000  312.000000  312.000000  312.000000     ...      312.000000   \n",
       "mean     0.166566    0.224203    0.238222    0.222579     ...        0.268221   \n",
       "std      0.063260    0.054565    0.059990    0.058826     ...        0.056260   \n",
       "min      0.064847    0.126576    0.098041    0.072942     ...        0.103102   \n",
       "25%      0.135364    0.199422    0.208905    0.197063     ...        0.241843   \n",
       "50%      0.163021    0.224248    0.240938    0.217236     ...        0.264620   \n",
       "75%      0.191840    0.245590    0.265239    0.248056     ...        0.290764   \n",
       "max      1.000000    1.000000    1.000000    1.000000     ...        1.000000   \n",
       "\n",
       "              303         304         305         306         307         308  \\\n",
       "count  312.000000  312.000000  312.000000  312.000000  312.000000  312.000000   \n",
       "mean     0.194097    0.231013    0.205481    0.180260    0.246505    0.216667   \n",
       "std      0.055223    0.054030    0.058368    0.058040    0.060089    0.056808   \n",
       "min      0.088291    0.087887    0.054354    0.075857    0.089603    0.118913   \n",
       "25%      0.171114    0.206106    0.181502    0.155551    0.216800    0.190057   \n",
       "50%      0.192780    0.229900    0.204677    0.178914    0.246273    0.217652   \n",
       "75%      0.209289    0.249275    0.226769    0.200257    0.269501    0.238211   \n",
       "max      1.000000    1.000000    1.000000    1.000000    1.000000    1.000000   \n",
       "\n",
       "              309         310         311  \n",
       "count  312.000000  312.000000  312.000000  \n",
       "mean     0.223584    0.222106    0.207580  \n",
       "std      0.056586    0.056563    0.053698  \n",
       "min      0.077267    0.106662    0.116916  \n",
       "25%      0.196680    0.195244    0.184093  \n",
       "50%      0.225656    0.222008    0.202969  \n",
       "75%      0.248802    0.243202    0.226811  \n",
       "max      1.000000    1.000000    1.000000  \n",
       "\n",
       "[8 rows x 312 columns]"
      ]
     },
     "execution_count": 9,
     "metadata": {},
     "output_type": "execute_result"
    }
   ],
   "source": [
    "user_user_matrix.describe()"
   ]
  },
  {
   "cell_type": "markdown",
   "metadata": {},
   "source": [
    "As you can see above, for each user, top 25% similar users has 0.25 consine similarity value rougly. Therefore, from now on we are going to recommend a user from its similar users' information. If we had enough time and resources, we wanted to try to select top 5 similar users but in order to reduce the complexity, we just chose **first 5 similar users whose similarity is higher than 0.3.**"
   ]
  },
  {
   "cell_type": "markdown",
   "metadata": {},
   "source": [
    "### 5.4.3 Recommend products to users"
   ]
  },
  {
   "cell_type": "code",
   "execution_count": null,
   "metadata": {},
   "outputs": [],
   "source": [
    "'''This cell is to compute recom_matrix. This cell recommends products to each users.'''\n",
    "\n",
    "'''# recommendation matrix\n",
    "recom_matrix = np.zeros(shape=(users_length,products_length))\n",
    "\n",
    "i = 0\n",
    "j = 0\n",
    "cnt = 0\n",
    "# if user i and user j are similar, recommend product bought by j to i\n",
    "\n",
    "while(i<users_length):\n",
    "    j = i+1\n",
    "    cnt = 0\n",
    "    while(j<users_length) :\n",
    "        if(user_user_matrix.loc[i][j] > 0.3 and cnt < 5):\n",
    "            cnt = cnt+1\n",
    "            for k, product in enumerate(train_products['Product_ID']):\n",
    "                # if i has not bought but j has bought, recommend the product to i\n",
    "                if(train_matrix.loc[users.loc[i]][product].values==0 and \n",
    "                   train_matrix.loc[users.loc[j]][product].values==1):\n",
    "                    print(i, k)\n",
    "                    recom_matrix[i][k] = 1\n",
    "                    print(recom_matrix[i][k])\n",
    "        if (cnt == 5):\n",
    "            break;\n",
    "        j = j+1\n",
    "    i = i+1\n",
    "\n",
    "np.savetxt('recom_matrix.csv', recom_matrix, delimiter=',')'''"
   ]
  },
  {
   "cell_type": "code",
   "execution_count": 10,
   "metadata": {},
   "outputs": [],
   "source": [
    "'''This cell is to load saved recom_matrix.'''\n",
    "recom_matrix = pd.read_csv('recom_matrix.csv', header=None)"
   ]
  },
  {
   "cell_type": "markdown",
   "metadata": {},
   "source": [
    "### 5.4.4 Evaluate the model\n",
    "\n",
    "We are comparing recom_matrix and val_matrix which are predicted value and observed value respectively.<br></br>\n",
    "First, we computed the similarity between each row vectors of recom_matrix and val_matrix.<br></br>\n",
    "Secondly, we computed precision, recall, accuracy, and f-score."
   ]
  },
  {
   "cell_type": "code",
   "execution_count": 11,
   "metadata": {},
   "outputs": [],
   "source": [
    "# For convenience, we made a dictionary of `Product_ID` and its index and managed thame\n",
    "\n",
    "def swap_dictionary(original_dict):\n",
    "    temp_dict = {}\n",
    "    dict_list = original_dict.items()\n",
    "    for i in dict_list:\n",
    "        temp_dict[i[1]] = i[0]\n",
    "    return temp_dict"
   ]
  },
  {
   "cell_type": "code",
   "execution_count": 12,
   "metadata": {},
   "outputs": [],
   "source": [
    "tmp = products.to_dict()\n",
    "swaped_products = swap_dictionary(tmp['Product_ID'])"
   ]
  },
  {
   "cell_type": "markdown",
   "metadata": {},
   "source": [
    "`recom_matrix` : whole products are in columns. <br></br>\n",
    "`new_recom` : only products in val_matrix are in columns. This matrix is to compute similarity more conveniently."
   ]
  },
  {
   "cell_type": "code",
   "execution_count": 13,
   "metadata": {},
   "outputs": [],
   "source": [
    "new_recom = pd.DataFrame()\n",
    "\n",
    "for product in val_products['Product_ID']:\n",
    "    tmp = recom_matrix[swaped_products[product]]\n",
    "    tmp = tmp.to_frame(name=product)\n",
    "    new_recom = pd.merge(new_recom, tmp, left_index=True, right_index=True, how=\"outer\")"
   ]
  },
  {
   "cell_type": "markdown",
   "metadata": {},
   "source": [
    "#### (1) Cosine Similarity"
   ]
  },
  {
   "cell_type": "markdown",
   "metadata": {},
   "source": [
    "`similarity_matrix` : cosine similarity between rew vectors of `new_recom` and `val_matrix`. Its index is same as index of `users` and through `users` we can get its User_ID."
   ]
  },
  {
   "cell_type": "code",
   "execution_count": 39,
   "metadata": {},
   "outputs": [],
   "source": [
    "similarity_matrix = np.zeros(shape=(val_users_length, 1))\n",
    "\n",
    "for i, user1 in enumerate(val_user_info['User_ID']):\n",
    "    user_recom = np.array(new_recom.loc[i]).astype(int)\n",
    "    user_val = np.array(val_matrix.loc[user1])\n",
    "    similarity_matrix[i] = cos_sim(user_recom, user_val)\n",
    "    \n",
    "similarity_matrix = pd.DataFrame(similarity_matrix)"
   ]
  },
  {
   "cell_type": "code",
   "execution_count": 17,
   "metadata": {},
   "outputs": [
    {
     "data": {
      "text/html": [
       "<div>\n",
       "<style scoped>\n",
       "    .dataframe tbody tr th:only-of-type {\n",
       "        vertical-align: middle;\n",
       "    }\n",
       "\n",
       "    .dataframe tbody tr th {\n",
       "        vertical-align: top;\n",
       "    }\n",
       "\n",
       "    .dataframe thead th {\n",
       "        text-align: right;\n",
       "    }\n",
       "</style>\n",
       "<table border=\"1\" class=\"dataframe\">\n",
       "  <thead>\n",
       "    <tr style=\"text-align: right;\">\n",
       "      <th></th>\n",
       "      <th>0</th>\n",
       "    </tr>\n",
       "  </thead>\n",
       "  <tbody>\n",
       "    <tr>\n",
       "      <th>count</th>\n",
       "      <td>312.000000</td>\n",
       "    </tr>\n",
       "    <tr>\n",
       "      <th>mean</th>\n",
       "      <td>0.030747</td>\n",
       "    </tr>\n",
       "    <tr>\n",
       "      <th>std</th>\n",
       "      <td>0.028703</td>\n",
       "    </tr>\n",
       "    <tr>\n",
       "      <th>min</th>\n",
       "      <td>0.000000</td>\n",
       "    </tr>\n",
       "    <tr>\n",
       "      <th>25%</th>\n",
       "      <td>0.000000</td>\n",
       "    </tr>\n",
       "    <tr>\n",
       "      <th>50%</th>\n",
       "      <td>0.026514</td>\n",
       "    </tr>\n",
       "    <tr>\n",
       "      <th>75%</th>\n",
       "      <td>0.052773</td>\n",
       "    </tr>\n",
       "    <tr>\n",
       "      <th>max</th>\n",
       "      <td>0.107000</td>\n",
       "    </tr>\n",
       "  </tbody>\n",
       "</table>\n",
       "</div>"
      ],
      "text/plain": [
       "                0\n",
       "count  312.000000\n",
       "mean     0.030747\n",
       "std      0.028703\n",
       "min      0.000000\n",
       "25%      0.000000\n",
       "50%      0.026514\n",
       "75%      0.052773\n",
       "max      0.107000"
      ]
     },
     "execution_count": 17,
     "metadata": {},
     "output_type": "execute_result"
    }
   ],
   "source": [
    "similarity_matrix.describe()"
   ]
  },
  {
   "cell_type": "code",
   "execution_count": 19,
   "metadata": {
    "scrolled": true
   },
   "outputs": [
    {
     "data": {
      "text/plain": [
       "1606"
      ]
     },
     "execution_count": 19,
     "metadata": {},
     "output_type": "execute_result"
    }
   ],
   "source": [
    "val_products_length"
   ]
  },
  {
   "cell_type": "markdown",
   "metadata": {},
   "source": [
    "The max value is 0.1. This similairity is computed from two 1x1606 vectors. Therefore, the value itself is low but the meaning of the value is not intuitive.\n",
    "\n",
    "To show the performance mroe intuitivly, we computed precision, recall, accuracy, and f_score."
   ]
  },
  {
   "cell_type": "markdown",
   "metadata": {},
   "source": [
    "#### (2) Other Evaluation Metric"
   ]
  },
  {
   "cell_type": "code",
   "execution_count": 284,
   "metadata": {},
   "outputs": [],
   "source": [
    "precision = np.zeros(shape=(users_length, 1))\n",
    "recall = np.zeros(shape=(users_length, 1))\n",
    "accuracy = np.zeros(shape=(users_length, 1))\n",
    "f_score = np.zeros(shape=(users_length, 1))\n",
    "\n",
    "for i, user1 in enumerate(val_user_info['User_ID']):\n",
    "    user_recom = np.array(new_recom.loc[i]).astype(int)\n",
    "    user_val = np.array(val_matrix.loc[user1])\n",
    "    conf = confusion_matrix(user_val, user_recom)\n",
    "    TP = conf[0][0]\n",
    "    FP = conf[0][1]\n",
    "    FN = conf[1][0]\n",
    "    TN = conf[1][1]\n",
    "    \n",
    "    precision[i] = TP/(TP+FP)\n",
    "    accuracy[i] = (TP+TN)/(TP+TN+FP+FN)\n",
    "    recall[i] = TP/(TP+FN)\n",
    "    f_score[i] = 2*(precision[i]*recall[i])/(precision[i]+recall[i]) "
   ]
  },
  {
   "cell_type": "code",
   "execution_count": 287,
   "metadata": {},
   "outputs": [
    {
     "name": "stdout",
     "output_type": "stream",
     "text": [
      "accuracy  :  0.7841966823131207\n",
      "recall    :  0.9938771135530954\n",
      "precision :  0.7877124702782597\n",
      "f_score   :  0.8680098391485594\n"
     ]
    }
   ],
   "source": [
    "avg_precision = precision.mean()\n",
    "avg_recall = recall.mean()\n",
    "avg_accuracy = accuracy.mean()\n",
    "avg_f_score = f_score.mean()\n",
    "\n",
    "print(\"accuracy  : \", avg_accuracy)\n",
    "print(\"recall    : \", avg_recall)\n",
    "print(\"precision : \", avg_precision)\n",
    "print(\"f_score   : \", avg_f_score)"
   ]
  },
  {
   "cell_type": "markdown",
   "metadata": {},
   "source": [
    "* recall : recommend products above bought products\n",
    "* precision : bought products above recommended products\n",
    "* accuracy : how well predictied\n",
    "* f_score :  ??????????"
   ]
  },
  {
   "cell_type": "markdown",
   "metadata": {},
   "source": [
    "- Evaluation\n",
    "    * metric: precision\n",
    "        - Here, for the evaluation we decided to adopt a precision as our metric. This is because we thought it's more valuable for recommendation system to have higher probability of user actually buying the product that's been recommended than the probability that recommended product would exist among the product actually purchased. That's why precision gets more importance than recall here.\n",
    "        - According to the precision and f-score computed, they indicate that our model works pretty well with precision above 0.7877 and f-score above 0.868. We want to emphasize our evaluation result once again since it's relatively hard to get higher precision and f-score."
   ]
  },
  {
   "cell_type": "markdown",
   "metadata": {},
   "source": [
    "### 5.5 Collaborative Filtering Model - user based with metadata : age"
   ]
  },
  {
   "cell_type": "markdown",
   "metadata": {},
   "source": [
    "Since model at 5.2 do not use any metadata of user, we tried another model that is similar to user based CF but which uses additional metadata, age of each users. Not just selecting first 5 similar users, in this model, first 5 similar users who have the same age caetegory will recommend products.\n",
    "\n",
    "If this model performs better than simple user-based CF, it means that age data is a meaningful attribute for recommendation."
   ]
  },
  {
   "cell_type": "markdown",
   "metadata": {},
   "source": [
    "### 5.5.1 Building model"
   ]
  },
  {
   "cell_type": "code",
   "execution_count": null,
   "metadata": {},
   "outputs": [],
   "source": [
    "'''This cell is to compute the recom_with_age matirx.'''\n",
    "'''\n",
    "# recommendation matrix with age data\n",
    "recom_with_age_matrix = np.zeros(shape=(users_length,products_length))\n",
    "\n",
    "i = 0\n",
    "j = 0\n",
    "cnt = 0\n",
    "\n",
    "# if user i and j are similar and if their age category are same, recommend a product that j has bought to i\n",
    "\n",
    "while(i<users_length):\n",
    "    j = i+1\n",
    "    cnt = 0\n",
    "    while(j<users_length) :\n",
    "        if(user_user_matrix.loc[i][j] > 0.3 and cnt < 5 and \n",
    "           data_user_age_dict[users.at[i, 'User_ID']] == data_user_age_dict[users.at[j, 'User_ID']]):\n",
    "            cnt = cnt+1\n",
    "            for k, product in enumerate(train_products['Product_ID']):\n",
    "                # if i has not bough, but j has bought, recommend to i\n",
    "                if(train_matrix.loc[users.loc[i]][product].values==0 and \n",
    "                   train_matrix.loc[users.loc[j]][product].values==1):\n",
    "                    print(i, k)\n",
    "                    recom_with_age_matrix[i][k] = 1\n",
    "                    print(recom_with_age_matrix[i][k])\n",
    "        if (cnt == 5):\n",
    "            break;\n",
    "        j = j+1\n",
    "    i = i+1\n",
    "\n",
    "np.savetxt('recom_with_age_matrix.csv', recom_with_age_matrix, delimiter=',')'''"
   ]
  },
  {
   "cell_type": "code",
   "execution_count": 70,
   "metadata": {},
   "outputs": [],
   "source": [
    "'''This cell is to load saved recom_with_age_matrix.'''\n",
    "recom_with_age_matrix = pd.read_csv('recom_with_age_matrix.csv', header=None)"
   ]
  },
  {
   "cell_type": "markdown",
   "metadata": {},
   "source": [
    "### 5.5.2 Evaluate the model"
   ]
  },
  {
   "cell_type": "code",
   "execution_count": 71,
   "metadata": {},
   "outputs": [],
   "source": [
    "# recom_matrix, val_matrix 의 비교를 편하게 하기 위해 product id 와 index 사이의 dictionary 를 만들고, 관리할 것임.\n",
    "def swap_dictionary(original_dict):\n",
    "    temp_dict = {}\n",
    "    dict_list = original_dict.items()\n",
    "    for i in dict_list:\n",
    "        temp_dict[i[1]] = i[0]\n",
    "    return temp_dict"
   ]
  },
  {
   "cell_type": "code",
   "execution_count": 72,
   "metadata": {},
   "outputs": [],
   "source": [
    "tmp = products.to_dict()\n",
    "swaped_products = swap_dictionary(tmp['Product_ID'])"
   ]
  },
  {
   "cell_type": "code",
   "execution_count": 73,
   "metadata": {},
   "outputs": [],
   "source": [
    "# recom_matrix 에는 모든 product 가 column 으로 들어가 있음.\n",
    "# new_recom 에는 val_matrix 에 있는 product 만 뽑아서 정리함.\n",
    "# 이렇게 정리함으로써, new_recom 과 val_matrix 의 row vector 사이의 유사도를 계산할 수 있음. (차원을 맞춰 줌.)\n",
    "\n",
    "new_recom = pd.DataFrame()\n",
    "\n",
    "for product in val_products['Product_ID']:\n",
    "    tmp = recom_with_age_matrix[swaped_products[product]]\n",
    "    tmp = tmp.to_frame(name=product)\n",
    "    new_recom = pd.merge(new_recom, tmp, left_index=True, right_index=True, how=\"outer\")"
   ]
  },
  {
   "cell_type": "markdown",
   "metadata": {},
   "source": [
    "#### (1) Cosine Similarity"
   ]
  },
  {
   "cell_type": "code",
   "execution_count": 79,
   "metadata": {},
   "outputs": [],
   "source": [
    "# similarity matrix 를 정의하고, new_recom 과 val_matrix 의 row vector 사이의 유사도를 계산하여 저장함.\n",
    "\n",
    "similarity_matrix = np.zeros(shape=(users_length, 1))\n",
    "\n",
    "for i, user1 in enumerate(val_user_info['User_ID']):\n",
    "    user_recom = np.array(new_recom.loc[i]).astype(int)\n",
    "    user_val = np.array(val_matrix.loc[user1])\n",
    "    similarity_matrix[i] = cos_sim(user_recom, user_val)\n",
    "    \n",
    "similarity_matrix = pd.DataFrame(similarity_matrix)\n",
    "# similarity_matrix 의 index 는 users 의 index 와 같으며, users 를 통해 user_ID 로 접근할 수 있다."
   ]
  },
  {
   "cell_type": "code",
   "execution_count": 80,
   "metadata": {},
   "outputs": [
    {
     "data": {
      "text/html": [
       "<div>\n",
       "<style scoped>\n",
       "    .dataframe tbody tr th:only-of-type {\n",
       "        vertical-align: middle;\n",
       "    }\n",
       "\n",
       "    .dataframe tbody tr th {\n",
       "        vertical-align: top;\n",
       "    }\n",
       "\n",
       "    .dataframe thead th {\n",
       "        text-align: right;\n",
       "    }\n",
       "</style>\n",
       "<table border=\"1\" class=\"dataframe\">\n",
       "  <thead>\n",
       "    <tr style=\"text-align: right;\">\n",
       "      <th></th>\n",
       "      <th>0</th>\n",
       "    </tr>\n",
       "  </thead>\n",
       "  <tbody>\n",
       "    <tr>\n",
       "      <th>count</th>\n",
       "      <td>312.000000</td>\n",
       "    </tr>\n",
       "    <tr>\n",
       "      <th>mean</th>\n",
       "      <td>0.022038</td>\n",
       "    </tr>\n",
       "    <tr>\n",
       "      <th>std</th>\n",
       "      <td>0.027351</td>\n",
       "    </tr>\n",
       "    <tr>\n",
       "      <th>min</th>\n",
       "      <td>0.000000</td>\n",
       "    </tr>\n",
       "    <tr>\n",
       "      <th>25%</th>\n",
       "      <td>0.000000</td>\n",
       "    </tr>\n",
       "    <tr>\n",
       "      <th>50%</th>\n",
       "      <td>0.000000</td>\n",
       "    </tr>\n",
       "    <tr>\n",
       "      <th>75%</th>\n",
       "      <td>0.042923</td>\n",
       "    </tr>\n",
       "    <tr>\n",
       "      <th>max</th>\n",
       "      <td>0.110974</td>\n",
       "    </tr>\n",
       "  </tbody>\n",
       "</table>\n",
       "</div>"
      ],
      "text/plain": [
       "                0\n",
       "count  312.000000\n",
       "mean     0.022038\n",
       "std      0.027351\n",
       "min      0.000000\n",
       "25%      0.000000\n",
       "50%      0.000000\n",
       "75%      0.042923\n",
       "max      0.110974"
      ]
     },
     "execution_count": 80,
     "metadata": {},
     "output_type": "execute_result"
    }
   ],
   "source": [
    "similarity_matrix.describe()"
   ]
  },
  {
   "cell_type": "markdown",
   "metadata": {},
   "source": [
    "#### (2) Other Evaluation Metric"
   ]
  },
  {
   "cell_type": "code",
   "execution_count": 81,
   "metadata": {},
   "outputs": [],
   "source": [
    "precision = np.zeros(shape=(users_length, 1))\n",
    "recall = np.zeros(shape=(users_length, 1))\n",
    "accuracy = np.zeros(shape=(users_length, 1))\n",
    "f_score = np.zeros(shape=(users_length, 1))\n",
    "\n",
    "for i, user1 in enumerate(val_user_info['User_ID']):\n",
    "    user_recom = np.array(new_recom.loc[i]).astype(int)\n",
    "    user_val = np.array(val_matrix.loc[user1])\n",
    "    conf = confusion_matrix(user_val, user_recom)\n",
    "    TP = conf[0][0]\n",
    "    FP = conf[0][1]\n",
    "    FN = conf[1][0]\n",
    "    TN = conf[1][1]\n",
    "    \n",
    "    precision[i] = TP/(TP+FP)\n",
    "    accuracy[i] = (TP+TN)/(TP+TN+FP+FN)\n",
    "    recall[i] = TP/(TP+FN)\n",
    "    f_score[i] = 2*(precision[i]*recall[i])/(precision[i]+recall[i]) "
   ]
  },
  {
   "cell_type": "code",
   "execution_count": 82,
   "metadata": {},
   "outputs": [
    {
     "name": "stdout",
     "output_type": "stream",
     "text": [
      "accuracy  :  0.853837372672989\n",
      "recall    :  0.9938528555869905\n",
      "precision :  0.858247381273697\n",
      "f_score   :  0.912520878283409\n"
     ]
    }
   ],
   "source": [
    "avg_precision = precision.mean()\n",
    "avg_recall = recall.mean()\n",
    "avg_accuracy = accuracy.mean()\n",
    "avg_f_score = f_score.mean()\n",
    "\n",
    "print(\"accuracy  : \", avg_accuracy)\n",
    "print(\"recall    : \", avg_recall)\n",
    "print(\"precision : \", avg_precision)\n",
    "print(\"f_score   : \", avg_f_score)"
   ]
  },
  {
   "cell_type": "markdown",
   "metadata": {},
   "source": [
    "The result has higher accuracy, precision, and f_score value comparing with simple user based CF. Through this result, we can conclude that age informatation is helpful for recommending more accurately."
   ]
  },
  {
   "cell_type": "markdown",
   "metadata": {},
   "source": [
    "### 5.6 Model Selection"
   ]
  },
  {
   "cell_type": "markdown",
   "metadata": {},
   "source": [
    "Comparing two different user-based collaborative filtering models, **we concluded that the model using age information is better than another.** If we had more time, we could have tried several other models such as item based CF, model based CF, or several recommendation systems with other metadata of user or products."
   ]
  },
  {
   "cell_type": "markdown",
   "metadata": {},
   "source": [
    "**1. simple User-based CF**\n",
    "\n",
    "\n",
    "    accuracy  :  0.7841966823131207\n",
    "    recall    :  0.9938771135530954\n",
    "    precision :  0.7877124702782597\n",
    "    f_score   :  0.8680098391485594\n",
    "    \n",
    "\n",
    "**2. User-based CF with age data**\n",
    "\n",
    "\n",
    "    accuracy  :  0.853837372672989\n",
    "    recall    :  0.9938528555869905\n",
    "    precision :  0.858247381273697\n",
    "    f_score   :  0.912520878283409"
   ]
  },
  {
   "cell_type": "markdown",
   "metadata": {},
   "source": [
    "As **precision** means bought products above recommended products, this metric is the most reasonable evaluation metric of this project. Therefore, we can see that the second model performs better than the first one in respect of our final metric, **precision**."
   ]
  },
  {
   "cell_type": "markdown",
   "metadata": {},
   "source": [
    "### 5.7. Final Output"
   ]
  },
  {
   "cell_type": "markdown",
   "metadata": {},
   "source": [
    "Using test dataset, we can see the final performance."
   ]
  },
  {
   "cell_type": "code",
   "execution_count": 86,
   "metadata": {},
   "outputs": [],
   "source": [
    "# recom_matrix 에는 모든 product 가 column 으로 들어가 있음.\n",
    "# new_recom 에는 test_matrix 에 있는 product 만 뽑아서 정리함.\n",
    "# 이렇게 정리함으로써, new_recom 과 tet=st_matrix 의 row vector 사이의 유사도를 계산할 수 있음. (차원을 맞춰 줌.)\n",
    "\n",
    "new_recom = pd.DataFrame()\n",
    "\n",
    "for product in test_products['Product_ID']:\n",
    "    tmp = recom_with_age_matrix[swaped_products[product]]\n",
    "    tmp = tmp.to_frame(name=product)\n",
    "    new_recom = pd.merge(new_recom, tmp, left_index=True, right_index=True, how=\"outer\")"
   ]
  },
  {
   "cell_type": "code",
   "execution_count": 87,
   "metadata": {},
   "outputs": [],
   "source": [
    "# similarity matrix 를 정의하고, new_recom 과 test_matrix 의 row vector 사이의 유사도를 계산하여 저장함.\n",
    "\n",
    "similarity_matrix = np.zeros(shape=(users_length, 1))\n",
    "\n",
    "for i, user1 in enumerate(test_user_info['User_ID']):\n",
    "    user_recom = np.array(new_recom.loc[i]).astype(int)\n",
    "    user_test = np.array(test_matrix.loc[user1])\n",
    "    similarity_matrix[i] = cos_sim(user_recom, user_test)\n",
    "    \n",
    "similarity_matrix = pd.DataFrame(similarity_matrix)\n",
    "# similarity_matrix 의 index 는 users 의 index 와 같으며, users 를 통해 user_ID 로 접근할 수 있다."
   ]
  },
  {
   "cell_type": "code",
   "execution_count": 88,
   "metadata": {},
   "outputs": [
    {
     "data": {
      "text/html": [
       "<div>\n",
       "<style scoped>\n",
       "    .dataframe tbody tr th:only-of-type {\n",
       "        vertical-align: middle;\n",
       "    }\n",
       "\n",
       "    .dataframe tbody tr th {\n",
       "        vertical-align: top;\n",
       "    }\n",
       "\n",
       "    .dataframe thead th {\n",
       "        text-align: right;\n",
       "    }\n",
       "</style>\n",
       "<table border=\"1\" class=\"dataframe\">\n",
       "  <thead>\n",
       "    <tr style=\"text-align: right;\">\n",
       "      <th></th>\n",
       "      <th>0</th>\n",
       "    </tr>\n",
       "  </thead>\n",
       "  <tbody>\n",
       "    <tr>\n",
       "      <th>count</th>\n",
       "      <td>312.000000</td>\n",
       "    </tr>\n",
       "    <tr>\n",
       "      <th>mean</th>\n",
       "      <td>0.022313</td>\n",
       "    </tr>\n",
       "    <tr>\n",
       "      <th>std</th>\n",
       "      <td>0.027407</td>\n",
       "    </tr>\n",
       "    <tr>\n",
       "      <th>min</th>\n",
       "      <td>0.000000</td>\n",
       "    </tr>\n",
       "    <tr>\n",
       "      <th>25%</th>\n",
       "      <td>0.000000</td>\n",
       "    </tr>\n",
       "    <tr>\n",
       "      <th>50%</th>\n",
       "      <td>0.000000</td>\n",
       "    </tr>\n",
       "    <tr>\n",
       "      <th>75%</th>\n",
       "      <td>0.044440</td>\n",
       "    </tr>\n",
       "    <tr>\n",
       "      <th>max</th>\n",
       "      <td>0.115079</td>\n",
       "    </tr>\n",
       "  </tbody>\n",
       "</table>\n",
       "</div>"
      ],
      "text/plain": [
       "                0\n",
       "count  312.000000\n",
       "mean     0.022313\n",
       "std      0.027407\n",
       "min      0.000000\n",
       "25%      0.000000\n",
       "50%      0.000000\n",
       "75%      0.044440\n",
       "max      0.115079"
      ]
     },
     "execution_count": 88,
     "metadata": {},
     "output_type": "execute_result"
    }
   ],
   "source": [
    "similarity_matrix.describe()"
   ]
  },
  {
   "cell_type": "markdown",
   "metadata": {},
   "source": [
    "#### (2) Other Evaluation Metric"
   ]
  },
  {
   "cell_type": "code",
   "execution_count": 89,
   "metadata": {},
   "outputs": [],
   "source": [
    "precision = np.zeros(shape=(users_length, 1))\n",
    "recall = np.zeros(shape=(users_length, 1))\n",
    "accuracy = np.zeros(shape=(users_length, 1))\n",
    "f_score = np.zeros(shape=(users_length, 1))\n",
    "\n",
    "for i, user1 in enumerate(test_user_info['User_ID']):\n",
    "    user_recom = np.array(new_recom.loc[i]).astype(int)\n",
    "    user_test = np.array(test_matrix.loc[user1])\n",
    "    conf = confusion_matrix(user_test, user_recom)\n",
    "    TP = conf[0][0]\n",
    "    FP = conf[0][1]\n",
    "    FN = conf[1][0]\n",
    "    TN = conf[1][1]\n",
    "    \n",
    "    precision[i] = TP/(TP+FP)\n",
    "    accuracy[i] = (TP+TN)/(TP+TN+FP+FN)\n",
    "    recall[i] = TP/(TP+FN)\n",
    "    f_score[i] = 2*(precision[i]*recall[i])/(precision[i]+recall[i]) "
   ]
  },
  {
   "cell_type": "code",
   "execution_count": 90,
   "metadata": {},
   "outputs": [
    {
     "name": "stdout",
     "output_type": "stream",
     "text": [
      "accuracy  :  0.8572035256410256\n",
      "recall    :  0.9938569065768865\n",
      "precision :  0.8616493307531042\n",
      "f_score   :  0.9149259939422311\n"
     ]
    }
   ],
   "source": [
    "avg_precision = precision.mean()\n",
    "avg_recall = recall.mean()\n",
    "avg_accuracy = accuracy.mean()\n",
    "avg_f_score = f_score.mean()\n",
    "\n",
    "print(\"accuracy  : \", avg_accuracy)\n",
    "print(\"recall    : \", avg_recall)\n",
    "print(\"precision : \", avg_precision)\n",
    "print(\"f_score   : \", avg_f_score)"
   ]
  },
  {
   "cell_type": "markdown",
   "metadata": {},
   "source": [
    "#### As a result, we can say that our recommendation model, user-based collabortive filtering with age data performs 0.86 in respect of precision."
   ]
  },
  {
   "cell_type": "markdown",
   "metadata": {},
   "source": [
    "### 6. Visualize the summary result and conclusion"
   ]
  },
  {
   "cell_type": "markdown",
   "metadata": {},
   "source": [
    "###### - simple summary of what we've done:\n",
    "We tried to understand how data is organized by analyzing dataset, then \n",
    "clean the data. By computing correlation between features, we are going to analyze how features are related to each other. After that, we built recommendation system using item based collaborative filtering so that we can predict top 5 products that user is likely to buy. \n"
   ]
  },
  {
   "cell_type": "markdown",
   "metadata": {},
   "source": [
    "###### - discussion:\n",
    "Through the outcomes of our analysis, we can utilize the results to order marketing \n",
    "displays. Plus, it’s also possible to recommend product items to users and predicting sales amount seems to be a feasible scenario with the price information afterwards. "
   ]
  },
  {
   "cell_type": "markdown",
   "metadata": {},
   "source": [
    "- explore the data\n",
    "- correlation\n",
    "- baseline & recommendation model => evaluation****\n",
    "                similarity =0.1****"
   ]
  }
 ],
 "metadata": {
  "kernelspec": {
   "display_name": "Python 3",
   "language": "python",
   "name": "python3"
  },
  "language_info": {
   "codemirror_mode": {
    "name": "ipython",
    "version": 3
   },
   "file_extension": ".py",
   "mimetype": "text/x-python",
   "name": "python",
   "nbconvert_exporter": "python",
   "pygments_lexer": "ipython3",
   "version": "3.6.5"
  }
 },
 "nbformat": 4,
 "nbformat_minor": 2
}
